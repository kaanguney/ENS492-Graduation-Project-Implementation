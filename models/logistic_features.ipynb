{
 "cells": [
  {
   "cell_type": "code",
   "execution_count": 5,
   "metadata": {},
   "outputs": [],
   "source": [
    "import numpy as np\n",
    "import matplotlib.pyplot as plt\n",
    "import pandas as pd\n",
    "from sklearn import preprocessing\n",
    "from sklearn.metrics import log_loss, classification_report\n",
    "\n",
    "\"\"\" connects to inline backend \"\"\"\n",
    "%matplotlib inline\n",
    "\"\"\" set seed for stable execution \"\"\"\n",
    "np.random.seed(42)"
   ]
  },
  {
   "cell_type": "code",
   "execution_count": 6,
   "metadata": {},
   "outputs": [
    {
     "data": {
      "text/html": [
       "<div>\n",
       "<style scoped>\n",
       "    .dataframe tbody tr th:only-of-type {\n",
       "        vertical-align: middle;\n",
       "    }\n",
       "\n",
       "    .dataframe tbody tr th {\n",
       "        vertical-align: top;\n",
       "    }\n",
       "\n",
       "    .dataframe thead th {\n",
       "        text-align: right;\n",
       "    }\n",
       "</style>\n",
       "<table border=\"1\" class=\"dataframe\">\n",
       "  <thead>\n",
       "    <tr style=\"text-align: right;\">\n",
       "      <th></th>\n",
       "      <th>TimeStamp_x</th>\n",
       "      <th>ALM_Ai_Mainau1CleaningAirPress_B12591_PDP_x</th>\n",
       "      <th>ALM_Ai_Mainau2CleaningAirPress_B12593_PDP_x</th>\n",
       "      <th>ALM_Ao_Mainau1_HDVacValveSetpoint_A12625_PDP_x</th>\n",
       "      <th>ALM_Ao_Mainau2_HDVacValveSetpoint_A12627_PDP_x</th>\n",
       "      <th>ALM_HMI_O_Mainau1_Runtime_PDP_x</th>\n",
       "      <th>ALM_HMI_O_Mainau2_Runtime_PDP_x</th>\n",
       "      <th>ALM_Mainau1_BOffAirPress_Scale_PDP_x</th>\n",
       "      <th>ALM_Mainau1_FillVac_Scale_PDP_x</th>\n",
       "      <th>ALM_Mainau1_FillVacValveFeed_Scale_PDP_x</th>\n",
       "      <th>...</th>\n",
       "      <th>ALM_Mainau1_FillVac_Scale_PDP_y.1</th>\n",
       "      <th>ALM_Mainau1_FillVacValveFeed_Scale_PDP_y.1</th>\n",
       "      <th>ALM_Mainau1_HDownVac_Scale_PDP_y.1</th>\n",
       "      <th>ALM_Mainau1_HDVacValveFeed_Scale_PDP_y.1</th>\n",
       "      <th>ALM_Mainau2_BOffAirPress_Scale_PDP_y.1</th>\n",
       "      <th>ALM_Mainau2_FillVac_Scale_PDP_y.1</th>\n",
       "      <th>ALM_Mainau2_FillVacValveFeed_Scale_PDP_y.1</th>\n",
       "      <th>ALM_Mainau2_HDownVac_Scale_PDP_y.1</th>\n",
       "      <th>ALM_Mainau2_HDVacValveFeed_Scale_PDP_y.1</th>\n",
       "      <th>Label</th>\n",
       "    </tr>\n",
       "  </thead>\n",
       "  <tbody>\n",
       "    <tr>\n",
       "      <th>0</th>\n",
       "      <td>2018-09-21 14:15:00</td>\n",
       "      <td>-0.254545</td>\n",
       "      <td>-0.254545</td>\n",
       "      <td>1.072727</td>\n",
       "      <td>1.072727</td>\n",
       "      <td>-0.7</td>\n",
       "      <td>-0.7</td>\n",
       "      <td>0.0</td>\n",
       "      <td>0.0</td>\n",
       "      <td>20.000000</td>\n",
       "      <td>...</td>\n",
       "      <td>0.0</td>\n",
       "      <td>0.000000</td>\n",
       "      <td>0.000000</td>\n",
       "      <td>0.000000</td>\n",
       "      <td>0.000000</td>\n",
       "      <td>0.000000</td>\n",
       "      <td>0.000000</td>\n",
       "      <td>0.000000</td>\n",
       "      <td>0.000000</td>\n",
       "      <td>0.0</td>\n",
       "    </tr>\n",
       "    <tr>\n",
       "      <th>1</th>\n",
       "      <td>2018-09-21 14:20:00</td>\n",
       "      <td>-0.081967</td>\n",
       "      <td>-0.081967</td>\n",
       "      <td>1.081967</td>\n",
       "      <td>1.081967</td>\n",
       "      <td>-0.7</td>\n",
       "      <td>-0.7</td>\n",
       "      <td>0.0</td>\n",
       "      <td>0.0</td>\n",
       "      <td>20.000000</td>\n",
       "      <td>...</td>\n",
       "      <td>0.0</td>\n",
       "      <td>0.000000</td>\n",
       "      <td>0.000000</td>\n",
       "      <td>0.000000</td>\n",
       "      <td>0.000000</td>\n",
       "      <td>0.000000</td>\n",
       "      <td>0.000000</td>\n",
       "      <td>0.000000</td>\n",
       "      <td>0.000000</td>\n",
       "      <td>0.0</td>\n",
       "    </tr>\n",
       "    <tr>\n",
       "      <th>2</th>\n",
       "      <td>2018-09-21 16:05:00</td>\n",
       "      <td>-0.288136</td>\n",
       "      <td>-0.288136</td>\n",
       "      <td>1.237288</td>\n",
       "      <td>1.237288</td>\n",
       "      <td>-0.7</td>\n",
       "      <td>-0.7</td>\n",
       "      <td>0.0</td>\n",
       "      <td>0.0</td>\n",
       "      <td>19.508475</td>\n",
       "      <td>...</td>\n",
       "      <td>0.0</td>\n",
       "      <td>0.504219</td>\n",
       "      <td>0.504219</td>\n",
       "      <td>0.504219</td>\n",
       "      <td>0.504219</td>\n",
       "      <td>0.504219</td>\n",
       "      <td>0.504219</td>\n",
       "      <td>0.504219</td>\n",
       "      <td>0.504219</td>\n",
       "      <td>0.0</td>\n",
       "    </tr>\n",
       "    <tr>\n",
       "      <th>3</th>\n",
       "      <td>2018-09-21 16:10:00</td>\n",
       "      <td>-0.416667</td>\n",
       "      <td>-0.416667</td>\n",
       "      <td>1.183333</td>\n",
       "      <td>1.183333</td>\n",
       "      <td>-0.7</td>\n",
       "      <td>-0.7</td>\n",
       "      <td>0.0</td>\n",
       "      <td>0.0</td>\n",
       "      <td>19.316667</td>\n",
       "      <td>...</td>\n",
       "      <td>0.0</td>\n",
       "      <td>0.469102</td>\n",
       "      <td>0.469102</td>\n",
       "      <td>0.469102</td>\n",
       "      <td>0.469102</td>\n",
       "      <td>0.469102</td>\n",
       "      <td>0.469102</td>\n",
       "      <td>0.469102</td>\n",
       "      <td>0.469102</td>\n",
       "      <td>0.0</td>\n",
       "    </tr>\n",
       "    <tr>\n",
       "      <th>4</th>\n",
       "      <td>2018-09-21 16:15:00</td>\n",
       "      <td>-0.316667</td>\n",
       "      <td>-0.316667</td>\n",
       "      <td>1.083333</td>\n",
       "      <td>1.083333</td>\n",
       "      <td>-0.7</td>\n",
       "      <td>-0.7</td>\n",
       "      <td>0.0</td>\n",
       "      <td>0.0</td>\n",
       "      <td>19.400000</td>\n",
       "      <td>...</td>\n",
       "      <td>0.0</td>\n",
       "      <td>0.494032</td>\n",
       "      <td>0.494032</td>\n",
       "      <td>0.494032</td>\n",
       "      <td>0.494032</td>\n",
       "      <td>0.494032</td>\n",
       "      <td>0.494032</td>\n",
       "      <td>0.494032</td>\n",
       "      <td>0.494032</td>\n",
       "      <td>0.0</td>\n",
       "    </tr>\n",
       "  </tbody>\n",
       "</table>\n",
       "<p>5 rows × 66 columns</p>\n",
       "</div>"
      ],
      "text/plain": [
       "           TimeStamp_x  ALM_Ai_Mainau1CleaningAirPress_B12591_PDP_x  \\\n",
       "0  2018-09-21 14:15:00                                    -0.254545   \n",
       "1  2018-09-21 14:20:00                                    -0.081967   \n",
       "2  2018-09-21 16:05:00                                    -0.288136   \n",
       "3  2018-09-21 16:10:00                                    -0.416667   \n",
       "4  2018-09-21 16:15:00                                    -0.316667   \n",
       "\n",
       "   ALM_Ai_Mainau2CleaningAirPress_B12593_PDP_x  \\\n",
       "0                                    -0.254545   \n",
       "1                                    -0.081967   \n",
       "2                                    -0.288136   \n",
       "3                                    -0.416667   \n",
       "4                                    -0.316667   \n",
       "\n",
       "   ALM_Ao_Mainau1_HDVacValveSetpoint_A12625_PDP_x  \\\n",
       "0                                        1.072727   \n",
       "1                                        1.081967   \n",
       "2                                        1.237288   \n",
       "3                                        1.183333   \n",
       "4                                        1.083333   \n",
       "\n",
       "   ALM_Ao_Mainau2_HDVacValveSetpoint_A12627_PDP_x  \\\n",
       "0                                        1.072727   \n",
       "1                                        1.081967   \n",
       "2                                        1.237288   \n",
       "3                                        1.183333   \n",
       "4                                        1.083333   \n",
       "\n",
       "   ALM_HMI_O_Mainau1_Runtime_PDP_x  ALM_HMI_O_Mainau2_Runtime_PDP_x  \\\n",
       "0                             -0.7                             -0.7   \n",
       "1                             -0.7                             -0.7   \n",
       "2                             -0.7                             -0.7   \n",
       "3                             -0.7                             -0.7   \n",
       "4                             -0.7                             -0.7   \n",
       "\n",
       "   ALM_Mainau1_BOffAirPress_Scale_PDP_x  ALM_Mainau1_FillVac_Scale_PDP_x  \\\n",
       "0                                   0.0                              0.0   \n",
       "1                                   0.0                              0.0   \n",
       "2                                   0.0                              0.0   \n",
       "3                                   0.0                              0.0   \n",
       "4                                   0.0                              0.0   \n",
       "\n",
       "   ALM_Mainau1_FillVacValveFeed_Scale_PDP_x  ...  \\\n",
       "0                                 20.000000  ...   \n",
       "1                                 20.000000  ...   \n",
       "2                                 19.508475  ...   \n",
       "3                                 19.316667  ...   \n",
       "4                                 19.400000  ...   \n",
       "\n",
       "   ALM_Mainau1_FillVac_Scale_PDP_y.1  \\\n",
       "0                                0.0   \n",
       "1                                0.0   \n",
       "2                                0.0   \n",
       "3                                0.0   \n",
       "4                                0.0   \n",
       "\n",
       "   ALM_Mainau1_FillVacValveFeed_Scale_PDP_y.1  \\\n",
       "0                                    0.000000   \n",
       "1                                    0.000000   \n",
       "2                                    0.504219   \n",
       "3                                    0.469102   \n",
       "4                                    0.494032   \n",
       "\n",
       "   ALM_Mainau1_HDownVac_Scale_PDP_y.1  \\\n",
       "0                            0.000000   \n",
       "1                            0.000000   \n",
       "2                            0.504219   \n",
       "3                            0.469102   \n",
       "4                            0.494032   \n",
       "\n",
       "   ALM_Mainau1_HDVacValveFeed_Scale_PDP_y.1  \\\n",
       "0                                  0.000000   \n",
       "1                                  0.000000   \n",
       "2                                  0.504219   \n",
       "3                                  0.469102   \n",
       "4                                  0.494032   \n",
       "\n",
       "   ALM_Mainau2_BOffAirPress_Scale_PDP_y.1  ALM_Mainau2_FillVac_Scale_PDP_y.1  \\\n",
       "0                                0.000000                           0.000000   \n",
       "1                                0.000000                           0.000000   \n",
       "2                                0.504219                           0.504219   \n",
       "3                                0.469102                           0.469102   \n",
       "4                                0.494032                           0.494032   \n",
       "\n",
       "   ALM_Mainau2_FillVacValveFeed_Scale_PDP_y.1  \\\n",
       "0                                    0.000000   \n",
       "1                                    0.000000   \n",
       "2                                    0.504219   \n",
       "3                                    0.469102   \n",
       "4                                    0.494032   \n",
       "\n",
       "   ALM_Mainau2_HDownVac_Scale_PDP_y.1  \\\n",
       "0                            0.000000   \n",
       "1                            0.000000   \n",
       "2                            0.504219   \n",
       "3                            0.469102   \n",
       "4                            0.494032   \n",
       "\n",
       "   ALM_Mainau2_HDVacValveFeed_Scale_PDP_y.1  Label  \n",
       "0                                  0.000000    0.0  \n",
       "1                                  0.000000    0.0  \n",
       "2                                  0.504219    0.0  \n",
       "3                                  0.469102    0.0  \n",
       "4                                  0.494032    0.0  \n",
       "\n",
       "[5 rows x 66 columns]"
      ]
     },
     "execution_count": 6,
     "metadata": {},
     "output_type": "execute_result"
    }
   ],
   "source": [
    "\"\"\"load dataset \"\"\"\n",
    "df = pd.read_csv(\"features4_5m_all.csv\", header = 0, delimiter = \",\")\n",
    "df.head()"
   ]
  },
  {
   "cell_type": "code",
   "execution_count": 7,
   "metadata": {},
   "outputs": [],
   "source": [
    "\"\"\" prepare train, test samples \"\"\"\n",
    "\n",
    "df.drop(\"TimeStamp_x\", axis = 1, inplace = True)\n",
    "size_train = 0.8\n",
    "train = df.iloc[0:int(df.shape[0]*size_train):]\n",
    "test = df.iloc[int(df.shape[0]*size_train)::]\n",
    "\n",
    "X_train = train.loc[:,:'ALM_Mainau2_HDVacValveFeed_Scale_PDP_y.1'].values\n",
    "y_train = train['Label'].values\n",
    "X_test = test.loc[:,:'ALM_Mainau2_HDVacValveFeed_Scale_PDP_y.1'].values\n",
    "y_test = test['Label'].values"
   ]
  },
  {
   "cell_type": "code",
   "execution_count": 8,
   "metadata": {},
   "outputs": [
    {
     "name": "stdout",
     "output_type": "stream",
     "text": [
      "- Number of training examples: m_train = 68244\n",
      "- Number of testing examples: m_test = 17061\n",
      "- Number of features: num_f = 64\n",
      "- X_train shape: (68244, 64)\n",
      "- y_train shape: (68244,)\n",
      "- X_test shape: (17061, 64)\n",
      "- y_test shape: (17061,)\n",
      "\n",
      "Corrected Data Format\n",
      "- x_train shape: (64, 68244)\n",
      "- y_train shape: (1, 68244)\n",
      "- x_test shape: (64, 17061)\n",
      "- y_test shape: (1, 17061)\n"
     ]
    }
   ],
   "source": [
    "m_train = X_train.shape[0]\n",
    "m_test = X_test.shape[0]\n",
    "num_f = X_train.shape[1]\n",
    "\n",
    "print (\"- Number of training examples: m_train = \" + str(m_train))\n",
    "print (\"- Number of testing examples: m_test = \" + str(m_test))\n",
    "print (\"- Number of features: num_f = \" + str(num_f))\n",
    "print (\"- X_train shape: \" + str(X_train.shape))\n",
    "print (\"- y_train shape: \" + str(y_train.shape))\n",
    "print (\"- X_test shape: \" + str(X_test.shape))\n",
    "print (\"- y_test shape: \" + str(y_test.shape))\n",
    "\n",
    "\"\"\" adjust shapes \"\"\"\n",
    "print(\"\\nCorrected Data Format\")\n",
    "x_train = X_train.reshape(X_train.shape[0], -1).T\n",
    "x_test = X_test.reshape(X_test.shape[0], -1).T\n",
    "y_train = y_train.reshape(y_train.shape[0], -1).T\n",
    "y_test = y_test.reshape(y_test.shape[0], -1).T\n",
    "\n",
    "print (\"- x_train shape: \" + str(x_train.shape))\n",
    "print (\"- y_train shape: \" + str(y_train.shape))\n",
    "print (\"- x_test shape: \" + str(x_test.shape))\n",
    "print (\"- y_test shape: \" + str(y_test.shape))"
   ]
  },
  {
   "cell_type": "code",
   "execution_count": 9,
   "metadata": {},
   "outputs": [],
   "source": [
    "\"\"\" standardize the dataset \"\"\"\n",
    "x_train = preprocessing.scale(x_train)\n",
    "x_test = preprocessing.scale(x_test)"
   ]
  },
  {
   "cell_type": "code",
   "execution_count": 10,
   "metadata": {},
   "outputs": [
    {
     "name": "stdout",
     "output_type": "stream",
     "text": [
      "sigmoid([6, 7]) = [0.99752738 0.99908895]\n"
     ]
    }
   ],
   "source": [
    "\"\"\" z = w*x + b \"\"\"\n",
    "def sigmoid(z):\n",
    "    return (1/(1+np.exp(-z)))\n",
    "\n",
    "\"\"\" sample sigmoid test \"\"\"\n",
    "print (\"sigmoid([6, 7]) = \" + str(sigmoid(np.array([6, 7]))))"
   ]
  },
  {
   "cell_type": "code",
   "execution_count": 11,
   "metadata": {
    "scrolled": true
   },
   "outputs": [
    {
     "name": "stdout",
     "output_type": "stream",
     "text": [
      "w = [[0.]\n",
      " [0.]]\n",
      "b = 0\n"
     ]
    }
   ],
   "source": [
    "\"\"\" initialize weights and bias \"\"\"\n",
    "def init_weights_bias(dim):\n",
    "    b = 0\n",
    "    w = np.zeros((dim, 1))\n",
    "    assert(w.shape == (dim, 1))\n",
    "    assert(isinstance(b, float) or isinstance(b, int))\n",
    "    return w,b\n",
    "\n",
    "\"\"\" sample init test \"\"\"\n",
    "dim = 2\n",
    "w,b = init_weights_bias(dim)\n",
    "print (\"w = \" + str(w))\n",
    "print (\"b = \" + str(b))"
   ]
  },
  {
   "cell_type": "code",
   "execution_count": 12,
   "metadata": {},
   "outputs": [
    {
     "name": "stdout",
     "output_type": "stream",
     "text": [
      "dw = [[0.99845601]\n",
      " [2.39507239]]\n",
      "db = 0.001455578136784208\n",
      "cost = 5.801545319394553\n"
     ]
    }
   ],
   "source": [
    "def propagate(w, b, X, Y):\n",
    "    m = X.shape[1]\n",
    "    \"\"\" bias broadcast \"\"\"\n",
    "    param = np.dot(w.T,X) + b\n",
    "    A = sigmoid(param)             \n",
    "    cost = np.sum(np.log(A)*Y + np.log(1-A)*(1-Y)) / (-m)\n",
    "    \"\"\" gradient formulas \"\"\"\n",
    "    dw = np.dot(X,(A-Y).T) / m\n",
    "    db = np.sum(A-Y) / m\n",
    "    assert(dw.shape == w.shape)\n",
    "    assert(db.dtype == float)\n",
    "    cost = np.squeeze(cost)\n",
    "    assert(cost.shape == ())\n",
    "    grads = {\"dw\": dw,\n",
    "             \"db\": db}\n",
    "    return grads,cost\n",
    "\n",
    "\"\"\" sample propagation \"\"\"\n",
    "w, b, X, Y = np.array([[1.],[2.]]), 2., np.array([[1.,2.,-1.],[3.,4.,-3.2]]), np.array([[1,0,1]])\n",
    "grads, cost = propagate(w, b, X, Y)\n",
    "print (\"dw = \" + str(grads[\"dw\"]))\n",
    "print (\"db = \" + str(grads[\"db\"]))\n",
    "print (\"cost = \" + str(cost))"
   ]
  },
  {
   "cell_type": "code",
   "execution_count": 13,
   "metadata": {},
   "outputs": [
    {
     "name": "stdout",
     "output_type": "stream",
     "text": [
      "w = [[0.19033591]\n",
      " [0.12259159]]\n",
      "b = 1.9253598300845747\n",
      "dw = [[0.67752042]\n",
      " [1.41625495]]\n",
      "db = 0.21919450454067657\n"
     ]
    }
   ],
   "source": [
    "def optimize(w, b, X, Y, num_iterations, learning_rate, print_cost = False):\n",
    "    costs = []\n",
    "    for i in range(num_iterations):\n",
    "        grads, cost = propagate(w, b, X, Y)\n",
    "        dw = grads[\"dw\"]\n",
    "        db = grads[\"db\"]\n",
    "        w = w-dw*learning_rate\n",
    "        b = b-db*learning_rate\n",
    "        \"\"\" keep track of costs \"\"\"\n",
    "        if i % 100 == 0:\n",
    "            costs.append(cost)\n",
    "            if print_cost:\n",
    "                print (f\"Cost after iteration {i}: {cost}\")\n",
    "    params = {\"w\": w,\n",
    "              \"b\": b}\n",
    "    \n",
    "    grads = {\"dw\": dw,\n",
    "             \"db\": db}\n",
    "    return params, grads, costs\n",
    "\n",
    "\"\"\" sample optimization \"\"\"\n",
    "params, grads, costs = optimize(w, b, X, Y, num_iterations= 100, learning_rate = 0.009, print_cost = False)\n",
    "\n",
    "print (\"w = \" + str(params[\"w\"]))\n",
    "print (\"b = \" + str(params[\"b\"]))\n",
    "print (\"dw = \" + str(grads[\"dw\"]))\n",
    "print (\"db = \" + str(grads[\"db\"]))"
   ]
  },
  {
   "cell_type": "code",
   "execution_count": 14,
   "metadata": {},
   "outputs": [
    {
     "name": "stdout",
     "output_type": "stream",
     "text": [
      "predictions = [[1. 1. 0.]]\n"
     ]
    }
   ],
   "source": [
    "def predict(w, b, X):\n",
    "    m = X.shape[1]\n",
    "    Y_prediction = np.zeros((1,m))\n",
    "    w = w.reshape(X.shape[0], 1)\n",
    "    A = sigmoid(np.dot(w.T,X)+b)\n",
    "    for i in range(A.shape[1]):\n",
    "        Y_prediction[0,i] = 0 if A[0,i] <= 0.5 else 1\n",
    "    \n",
    "    assert(Y_prediction.shape == (1, m))\n",
    "    \n",
    "    return Y_prediction\n",
    "\n",
    "\"\"\" sample prediction \"\"\"\n",
    "w = np.array([[0.1124579],[0.23106775]])\n",
    "b = -0.3\n",
    "X = np.array([[1.,-1.1,-3.2],[1.2,2.,0.1]])\n",
    "print (\"predictions = \" + str(predict(w, b, X)))"
   ]
  },
  {
   "cell_type": "code",
   "execution_count": 15,
   "metadata": {},
   "outputs": [],
   "source": [
    "def model(x_train, y_train, x_test, y_test, num_iterations = 2000, learning_rate = 0.5, print_cost = False):\n",
    "    w, b = init_weights_bias(x_train.shape[0])\n",
    "    parameters, grads, costs = optimize(w, b, x_train, y_train, num_iterations, learning_rate, print_cost = True)\n",
    "    w = parameters[\"w\"]\n",
    "    b = parameters[\"b\"]\n",
    "    Y_prediction_test = predict(w, b, x_test)\n",
    "    Y_prediction_train = predict(w, b, x_train)\n",
    "\n",
    "    print(\"train accuracy: {} %\".format(100 - np.mean(np.abs(Y_prediction_train - y_train)) * 100))\n",
    "    print(\"test accuracy: {} %\".format(100 - np.mean(np.abs(Y_prediction_test - y_test)) * 100))\n",
    "\n",
    "    info = {\"costs\": costs,\n",
    "         \"Y_prediction_test\": Y_prediction_test, \n",
    "         \"Y_prediction_train\" : Y_prediction_train, \n",
    "         \"w\" : w, \n",
    "         \"b\" : b,\n",
    "         \"learning_rate\" : learning_rate,\n",
    "         \"num_iterations\": num_iterations}\n",
    "    \n",
    "    return info"
   ]
  },
  {
   "cell_type": "code",
   "execution_count": 16,
   "metadata": {},
   "outputs": [
    {
     "name": "stdout",
     "output_type": "stream",
     "text": [
      "Cost after iteration 0: 0.6931471805599453\n",
      "Cost after iteration 100: 0.12976855231327444\n",
      "Cost after iteration 200: 0.11277805343784524\n",
      "Cost after iteration 300: 0.10613629365139156\n",
      "Cost after iteration 400: 0.10237465932081521\n",
      "Cost after iteration 500: 0.09989761376793174\n",
      "Cost after iteration 600: 0.09812254736396872\n",
      "Cost after iteration 700: 0.09677886231933393\n",
      "Cost after iteration 800: 0.09572168722472506\n",
      "Cost after iteration 900: 0.09486561699850338\n",
      "Cost after iteration 1000: 0.09415666824289824\n",
      "Cost after iteration 1100: 0.09355888207396076\n",
      "Cost after iteration 1200: 0.09304730951824303\n",
      "Cost after iteration 1300: 0.09260406482052014\n",
      "Cost after iteration 1400: 0.09221597431231998\n",
      "Cost after iteration 1500: 0.09187311011605681\n",
      "Cost after iteration 1600: 0.09156784093337306\n",
      "Cost after iteration 1700: 0.09129419825121722\n",
      "Cost after iteration 1800: 0.09104744189803411\n",
      "Cost after iteration 1900: 0.0908237554060968\n",
      "train accuracy: 97.91776566438075 %\n",
      "test accuracy: 91.0380399742102 %\n"
     ]
    }
   ],
   "source": [
    "info = model(x_train, y_train, x_test, y_test, num_iterations = 2000, learning_rate = 0.005, print_cost = True)"
   ]
  },
  {
   "cell_type": "code",
   "execution_count": 17,
   "metadata": {},
   "outputs": [
    {
     "data": {
      "image/png": "[encoded data removed]",
      "text/plain": [
       "<Figure size 432x288 with 1 Axes>"
      ]
     },
     "metadata": {
      "needs_background": "light"
     },
     "output_type": "display_data"
    }
   ],
   "source": [
    "\"\"\" plotting learning curve (with costs) \"\"\"\n",
    "costs = np.squeeze(info['costs'])\n",
    "plt.plot(costs)\n",
    "plt.ylabel('cost')\n",
    "plt.xlabel('iterations (per hundreds)')\n",
    "plt.title(\"Learning rate = \" + str(info[\"learning_rate\"]))\n",
    "plt.show()"
   ]
  },
  {
   "cell_type": "code",
   "execution_count": 18,
   "metadata": {
    "scrolled": false
   },
   "outputs": [
    {
     "name": "stdout",
     "output_type": "stream",
     "text": [
      "learning rate is: 0.01\n",
      "Cost after iteration 0: 0.6931471805599453\n",
      "Cost after iteration 100: 0.11269940035742444\n",
      "Cost after iteration 200: 0.10235357011507834\n",
      "Cost after iteration 300: 0.09811104281064854\n",
      "Cost after iteration 400: 0.09571393747828075\n",
      "Cost after iteration 500: 0.0941510105848864\n",
      "Cost after iteration 600: 0.09304299283375057\n",
      "Cost after iteration 700: 0.09221257913143271\n",
      "Cost after iteration 800: 0.09156510863169841\n",
      "Cost after iteration 900: 0.09104520332055825\n",
      "Cost after iteration 1000: 0.090618167659115\n",
      "Cost after iteration 1100: 0.09026106199691095\n",
      "Cost after iteration 1200: 0.08995804690403711\n",
      "Cost after iteration 1300: 0.08969778985786683\n",
      "Cost after iteration 1400: 0.08947194041323131\n",
      "train accuracy: 97.96026024265869 %\n",
      "test accuracy: 91.0380399742102 %\n",
      "\n",
      "-------------------------------------------------------\n",
      "\n",
      "learning rate is: 0.001\n",
      "Cost after iteration 0: 0.6931471805599453\n",
      "Cost after iteration 100: 0.25012716529005674\n",
      "Cost after iteration 200: 0.17759043553176176\n",
      "Cost after iteration 300: 0.15139078827314176\n",
      "Cost after iteration 400: 0.13810816316846217\n",
      "Cost after iteration 500: 0.13003027137498857\n",
      "Cost after iteration 600: 0.12453468449243382\n",
      "Cost after iteration 700: 0.12050629400542637\n",
      "Cost after iteration 800: 0.11739528610591382\n",
      "Cost after iteration 900: 0.1149000526861184\n",
      "Cost after iteration 1000: 0.11284115546043745\n",
      "Cost after iteration 1100: 0.11110479185168048\n",
      "Cost after iteration 1200: 0.10961497076624473\n",
      "Cost after iteration 1300: 0.10831876512748087\n",
      "Cost after iteration 1400: 0.10717800391662487\n",
      "train accuracy: 97.91630033409531 %\n",
      "test accuracy: 91.0380399742102 %\n",
      "\n",
      "-------------------------------------------------------\n",
      "\n",
      "learning rate is: 0.0001\n",
      "Cost after iteration 0: 0.6931471805599453\n",
      "Cost after iteration 100: 0.5871320258218765\n",
      "Cost after iteration 200: 0.5065528408769089\n",
      "Cost after iteration 300: 0.4446606647113663\n",
      "Cost after iteration 400: 0.39646233537799136\n",
      "Cost after iteration 500: 0.35836179998306944\n",
      "Cost after iteration 600: 0.3277901554359032\n",
      "Cost after iteration 700: 0.30290738651967897\n",
      "Cost after iteration 800: 0.2823841819442325\n",
      "Cost after iteration 900: 0.26524893902120084\n",
      "Cost after iteration 1000: 0.25078222003302525\n",
      "Cost after iteration 1100: 0.23844414555305704\n",
      "Cost after iteration 1200: 0.2278242159082135\n",
      "Cost after iteration 1300: 0.21860633253138795\n",
      "Cost after iteration 1400: 0.21054415197205517\n",
      "train accuracy: 97.97051755465682 %\n",
      "test accuracy: 91.0380399742102 %\n",
      "\n",
      "-------------------------------------------------------\n",
      "\n"
     ]
    },
    {
     "data": {
      "image/png": "[encoded data removed]",
      "text/plain": [
       "<Figure size 432x288 with 1 Axes>"
      ]
     },
     "metadata": {
      "needs_background": "light"
     },
     "output_type": "display_data"
    }
   ],
   "source": [
    "learning_rates = [0.01, 0.001, 0.0001]\n",
    "\"\"\" find the learning rate that minimizes the loss function the best \"\"\"\n",
    "least_cost_lr = 42\n",
    "models = {}\n",
    "for i in learning_rates:\n",
    "    print (\"learning rate is: \" + str(i))\n",
    "    models[str(i)] = model(x_train, y_train, x_test, y_test, num_iterations = 1500, learning_rate = i, print_cost = False)\n",
    "    if models[str(i)][\"costs\"][-1] < least_cost_lr:\n",
    "        least_cost_lr = models[str(i)][\"learning_rate\"]\n",
    "    print ('\\n' + \"-------------------------------------------------------\" + '\\n')\n",
    "\n",
    "for i in learning_rates:\n",
    "    plt.plot(np.squeeze(models[str(i)][\"costs\"]), label= str(models[str(i)][\"learning_rate\"]))\n",
    "\n",
    "plt.ylabel('cost')\n",
    "plt.xlabel('iterations (hundreds)')\n",
    "legend = plt.legend(loc='upper center', shadow=True)\n",
    "frame = legend.get_frame()\n",
    "frame.set_facecolor('0.90')\n",
    "plt.show()"
   ]
  },
  {
   "cell_type": "code",
   "execution_count": 19,
   "metadata": {
    "scrolled": false
   },
   "outputs": [
    {
     "name": "stdout",
     "output_type": "stream",
     "text": [
      "Learning rate that best minimizes the loss function is 0.01\n",
      "-------------------------------------------------------\n",
      "Cost after iteration 0: 0.6931471805599453\n",
      "Cost after iteration 100: 0.11269940035742444\n",
      "Cost after iteration 200: 0.10235357011507834\n",
      "Cost after iteration 300: 0.09811104281064854\n",
      "Cost after iteration 400: 0.09571393747828075\n",
      "Cost after iteration 500: 0.0941510105848864\n",
      "Cost after iteration 600: 0.09304299283375057\n",
      "Cost after iteration 700: 0.09221257913143271\n",
      "Cost after iteration 800: 0.09156510863169841\n",
      "Cost after iteration 900: 0.09104520332055825\n",
      "Cost after iteration 1000: 0.090618167659115\n",
      "Cost after iteration 1100: 0.09026106199691095\n",
      "Cost after iteration 1200: 0.08995804690403711\n",
      "Cost after iteration 1300: 0.08969778985786683\n",
      "Cost after iteration 1400: 0.08947194041323131\n",
      "train accuracy: 97.96026024265869 %\n",
      "test accuracy: 91.0380399742102 %\n"
     ]
    }
   ],
   "source": [
    "\"\"\" overwrite with best learning rate \"\"\"\n",
    "print(\"Learning rate that best minimizes the loss function is {learning_rate}\".format(learning_rate = least_cost_lr))\n",
    "print (\"-------------------------------------------------------\")\n",
    "info = model(x_train, y_train, x_test, y_test, num_iterations = 1500, learning_rate = least_cost_lr, print_cost = True)"
   ]
  },
  {
   "cell_type": "code",
   "execution_count": 20,
   "metadata": {},
   "outputs": [
    {
     "name": "stdout",
     "output_type": "stream",
     "text": [
      "Log training loss is: 0.7321574460516457\n",
      "-------------------------------------------------------\n",
      "Log testing loss is: 0.8733027147649984\n"
     ]
    }
   ],
   "source": [
    "\"\"\" measure log_loss from sklearn module \"\"\"\n",
    "train_log_loss = log_loss(y_train, info[\"Y_prediction_train\"], eps=1e-15) / x_train.shape[1]\n",
    "print(\"Log training loss is: {l}\".format(l = train_log_loss))\n",
    "print (\"-------------------------------------------------------\")\n",
    "test_log_loss = log_loss(y_test, info[\"Y_prediction_test\"], eps=1e-15) / x_test.shape[1]\n",
    "print(\"Log testing loss is: {l}\".format(l = test_log_loss))"
   ]
  },
  {
   "cell_type": "code",
   "execution_count": 67,
   "metadata": {
    "scrolled": false
   },
   "outputs": [
    {
     "name": "stdout",
     "output_type": "stream",
     "text": [
      "Value Counts with Index, ravel()\n",
      "--------------------------------------\n"
     ]
    }
   ],
   "source": [
    "\"\"\" display value counts for each class\"\"\"\n",
    "fun = np.random.randint(low = 0, high = 2, size = 1)\n",
    "# class counts with Index, ravel()\n",
    "if fun:\n",
    "    print(\"Value Counts with Index, ravel()\")\n",
    "    print(\"--------------------------------------\")\n",
    "    pd.Index(y_test.ravel()).value_counts()\n",
    "else:\n",
    "    # class counts with Series, np.squeeze()\n",
    "    print(\"Value Counts with Series, np.squeeze()\")\n",
    "    print(\"--------------------------------------\")\n",
    "    pd.Series(np.squeeze(y_test)).value_counts()"
   ]
  },
  {
   "cell_type": "code",
   "execution_count": 68,
   "metadata": {
    "scrolled": true
   },
   "outputs": [
    {
     "name": "stdout",
     "output_type": "stream",
     "text": [
      "              precision    recall  f1-score   support\n",
      "\n",
      "    Abnormal       1.00      0.00      0.00      1529\n",
      "      Normal       0.91      1.00      0.95     15532\n",
      "\n",
      "    accuracy                           0.91     17061\n",
      "   macro avg       0.96      0.50      0.48     17061\n",
      "weighted avg       0.92      0.91      0.87     17061\n",
      "\n"
     ]
    }
   ],
   "source": [
    "\"\"\" report the classification \"\"\"\n",
    "print(classification_report(y_true = np.squeeze(y_test), \n",
    "                            y_pred = np.squeeze(info[\"Y_prediction_test\"]), \n",
    "                            labels = [1,0], target_names = [\"Abnormal\", \"Normal\"], zero_division = 1))"
   ]
  }
 ],
 "metadata": {
  "kernelspec": {
   "display_name": "Python 3",
   "language": "python",
   "name": "python3"
  },
  "language_info": {
   "codemirror_mode": {
    "name": "ipython",
    "version": 3
   },
   "file_extension": ".py",
   "mimetype": "text/x-python",
   "name": "python",
   "nbconvert_exporter": "python",
   "pygments_lexer": "ipython3",
   "version": "3.8.3"
  }
 },
 "nbformat": 4,
 "nbformat_minor": 4
}
