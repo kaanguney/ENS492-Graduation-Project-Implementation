{
  "nbformat": 4,
  "nbformat_minor": 0,
  "metadata": {
    "colab": {
      "name": "Copy of autoencoder.ipynb",
      "provenance": [],
      "collapsed_sections": []
    },
    "kernelspec": {
      "name": "python3",
      "display_name": "Python 3"
    }
  },
  "cells": [
    {
      "cell_type": "code",
      "metadata": {
        "id": "QCypc1p6en1u"
      },
      "source": [
        "\"\"\" generate the same set of numbers \"\"\"\n",
        "from numpy.random import seed\n",
        "seed(42)\n",
        "from tensorflow.random import set_seed\n",
        "set_seed(42)"
      ],
      "execution_count": null,
      "outputs": []
    },
    {
      "cell_type": "code",
      "metadata": {
        "id": "nFuCbVM1iJ2K"
      },
      "source": [
        "\"\"\" import all libraries \"\"\"\n",
        "import sklearn\n",
        "import numpy as np\n",
        "from sklearn.preprocessing import StandardScaler, MinMaxScaler\n",
        "\n",
        "import matplotlib.pyplot as plt\n",
        "import seaborn as sns\n",
        "\n",
        "import time # for long executions\n",
        "\n",
        "import tensorflow as tf\n",
        "from keras.models import Model\n",
        "from keras.layers import Input, Dense, Layer, InputSpec\n",
        "from keras.callbacks import ModelCheckpoint\n",
        "from keras import regularizers, activations, initializers, constraints, Sequential\n",
        "\n",
        "from sklearn.metrics import confusion_matrix, precision_recall_curve\n",
        "from sklearn.metrics import recall_score, classification_report, auc, roc_curve\n",
        "from sklearn.metrics import precision_recall_fscore_support, f1_score\n",
        "\n",
        "\n",
        "from sklearn import decomposition # PCA\n",
        "import scipy\n",
        "from keras import backend as K\n",
        "from keras.constraints import UnitNorm, Constraint"
      ],
      "execution_count": null,
      "outputs": []
    },
    {
      "cell_type": "code",
      "metadata": {
        "id": "CxPboa-xnd8F",
        "outputId": "ac586a25-e124-433d-fb06-c98cb4d12b8d",
        "colab": {
          "base_uri": "https://localhost:8080/",
          "height": 117
        }
      },
      "source": [
        "\"\"\" read data \"\"\"\n",
        "import pandas as pd \n",
        "df = pd.read_csv(\"/content/drive/My Drive/Pusula/features4_5m_all.csv\")\n",
        "df.head(1) # fetch first "
      ],
      "execution_count": null,
      "outputs": [
        {
          "output_type": "execute_result",
          "data": {
            "text/html": [
              "<div>\n",
              "<style scoped>\n",
              "    .dataframe tbody tr th:only-of-type {\n",
              "        vertical-align: middle;\n",
              "    }\n",
              "\n",
              "    .dataframe tbody tr th {\n",
              "        vertical-align: top;\n",
              "    }\n",
              "\n",
              "    .dataframe thead th {\n",
              "        text-align: right;\n",
              "    }\n",
              "</style>\n",
              "<table border=\"1\" class=\"dataframe\">\n",
              "  <thead>\n",
              "    <tr style=\"text-align: right;\">\n",
              "      <th></th>\n",
              "      <th>TimeStamp_x</th>\n",
              "      <th>ALM_Ai_Mainau1CleaningAirPress_B12591_PDP_x</th>\n",
              "      <th>ALM_Ai_Mainau2CleaningAirPress_B12593_PDP_x</th>\n",
              "      <th>ALM_Ao_Mainau1_HDVacValveSetpoint_A12625_PDP_x</th>\n",
              "      <th>ALM_Ao_Mainau2_HDVacValveSetpoint_A12627_PDP_x</th>\n",
              "      <th>ALM_HMI_O_Mainau1_Runtime_PDP_x</th>\n",
              "      <th>ALM_HMI_O_Mainau2_Runtime_PDP_x</th>\n",
              "      <th>ALM_Mainau1_BOffAirPress_Scale_PDP_x</th>\n",
              "      <th>ALM_Mainau1_FillVac_Scale_PDP_x</th>\n",
              "      <th>ALM_Mainau1_FillVacValveFeed_Scale_PDP_x</th>\n",
              "      <th>ALM_Mainau1_HDownVac_Scale_PDP_x</th>\n",
              "      <th>ALM_Mainau1_HDVacValveFeed_Scale_PDP_x</th>\n",
              "      <th>ALM_Mainau2_BOffAirPress_Scale_PDP_x</th>\n",
              "      <th>ALM_Mainau2_FillVac_Scale_PDP_x</th>\n",
              "      <th>ALM_Mainau2_FillVacValveFeed_Scale_PDP_x</th>\n",
              "      <th>ALM_Mainau2_HDownVac_Scale_PDP_x</th>\n",
              "      <th>ALM_Mainau2_HDVacValveFeed_Scale_PDP_x</th>\n",
              "      <th>ALM_Ai_Mainau1CleaningAirPress_B12591_PDP_y</th>\n",
              "      <th>ALM_Ai_Mainau2CleaningAirPress_B12593_PDP_y</th>\n",
              "      <th>ALM_Ao_Mainau1_HDVacValveSetpoint_A12625_PDP_y</th>\n",
              "      <th>ALM_Ao_Mainau2_HDVacValveSetpoint_A12627_PDP_y</th>\n",
              "      <th>ALM_HMI_O_Mainau1_Runtime_PDP_y</th>\n",
              "      <th>ALM_HMI_O_Mainau2_Runtime_PDP_y</th>\n",
              "      <th>ALM_Mainau1_BOffAirPress_Scale_PDP_y</th>\n",
              "      <th>ALM_Mainau1_FillVac_Scale_PDP_y</th>\n",
              "      <th>ALM_Mainau1_FillVacValveFeed_Scale_PDP_y</th>\n",
              "      <th>ALM_Mainau1_HDownVac_Scale_PDP_y</th>\n",
              "      <th>ALM_Mainau1_HDVacValveFeed_Scale_PDP_y</th>\n",
              "      <th>ALM_Mainau2_BOffAirPress_Scale_PDP_y</th>\n",
              "      <th>ALM_Mainau2_FillVac_Scale_PDP_y</th>\n",
              "      <th>ALM_Mainau2_FillVacValveFeed_Scale_PDP_y</th>\n",
              "      <th>ALM_Mainau2_HDownVac_Scale_PDP_y</th>\n",
              "      <th>ALM_Mainau2_HDVacValveFeed_Scale_PDP_y</th>\n",
              "      <th>ALM_Ai_Mainau1CleaningAirPress_B12591_PDP_x.1</th>\n",
              "      <th>ALM_Ai_Mainau2CleaningAirPress_B12593_PDP_x.1</th>\n",
              "      <th>ALM_Ao_Mainau1_HDVacValveSetpoint_A12625_PDP_x.1</th>\n",
              "      <th>ALM_Ao_Mainau2_HDVacValveSetpoint_A12627_PDP_x.1</th>\n",
              "      <th>ALM_HMI_O_Mainau1_Runtime_PDP_x.1</th>\n",
              "      <th>ALM_HMI_O_Mainau2_Runtime_PDP_x.1</th>\n",
              "      <th>ALM_Mainau1_BOffAirPress_Scale_PDP_x.1</th>\n",
              "      <th>ALM_Mainau1_FillVac_Scale_PDP_x.1</th>\n",
              "      <th>ALM_Mainau1_FillVacValveFeed_Scale_PDP_x.1</th>\n",
              "      <th>ALM_Mainau1_HDownVac_Scale_PDP_x.1</th>\n",
              "      <th>ALM_Mainau1_HDVacValveFeed_Scale_PDP_x.1</th>\n",
              "      <th>ALM_Mainau2_BOffAirPress_Scale_PDP_x.1</th>\n",
              "      <th>ALM_Mainau2_FillVac_Scale_PDP_x.1</th>\n",
              "      <th>ALM_Mainau2_FillVacValveFeed_Scale_PDP_x.1</th>\n",
              "      <th>ALM_Mainau2_HDownVac_Scale_PDP_x.1</th>\n",
              "      <th>ALM_Mainau2_HDVacValveFeed_Scale_PDP_x.1</th>\n",
              "      <th>ALM_Ai_Mainau1CleaningAirPress_B12591_PDP_y.1</th>\n",
              "      <th>ALM_Ai_Mainau2CleaningAirPress_B12593_PDP_y.1</th>\n",
              "      <th>ALM_Ao_Mainau1_HDVacValveSetpoint_A12625_PDP_y.1</th>\n",
              "      <th>ALM_Ao_Mainau2_HDVacValveSetpoint_A12627_PDP_y.1</th>\n",
              "      <th>ALM_HMI_O_Mainau1_Runtime_PDP_y.1</th>\n",
              "      <th>ALM_HMI_O_Mainau2_Runtime_PDP_y.1</th>\n",
              "      <th>ALM_Mainau1_BOffAirPress_Scale_PDP_y.1</th>\n",
              "      <th>ALM_Mainau1_FillVac_Scale_PDP_y.1</th>\n",
              "      <th>ALM_Mainau1_FillVacValveFeed_Scale_PDP_y.1</th>\n",
              "      <th>ALM_Mainau1_HDownVac_Scale_PDP_y.1</th>\n",
              "      <th>ALM_Mainau1_HDVacValveFeed_Scale_PDP_y.1</th>\n",
              "      <th>ALM_Mainau2_BOffAirPress_Scale_PDP_y.1</th>\n",
              "      <th>ALM_Mainau2_FillVac_Scale_PDP_y.1</th>\n",
              "      <th>ALM_Mainau2_FillVacValveFeed_Scale_PDP_y.1</th>\n",
              "      <th>ALM_Mainau2_HDownVac_Scale_PDP_y.1</th>\n",
              "      <th>ALM_Mainau2_HDVacValveFeed_Scale_PDP_y.1</th>\n",
              "      <th>Label</th>\n",
              "    </tr>\n",
              "  </thead>\n",
              "  <tbody>\n",
              "    <tr>\n",
              "      <th>0</th>\n",
              "      <td>2018-09-21 14:15:00</td>\n",
              "      <td>-0.254545</td>\n",
              "      <td>-0.254545</td>\n",
              "      <td>1.072727</td>\n",
              "      <td>1.072727</td>\n",
              "      <td>-0.7</td>\n",
              "      <td>-0.7</td>\n",
              "      <td>0.0</td>\n",
              "      <td>0.0</td>\n",
              "      <td>20.0</td>\n",
              "      <td>20.0</td>\n",
              "      <td>20.0</td>\n",
              "      <td>20.0</td>\n",
              "      <td>20.0</td>\n",
              "      <td>20.0</td>\n",
              "      <td>20.0</td>\n",
              "      <td>20.0</td>\n",
              "      <td>0.0</td>\n",
              "      <td>0.0</td>\n",
              "      <td>2.0</td>\n",
              "      <td>2.0</td>\n",
              "      <td>-0.7</td>\n",
              "      <td>-0.7</td>\n",
              "      <td>0.0</td>\n",
              "      <td>0.0</td>\n",
              "      <td>20.0</td>\n",
              "      <td>20.0</td>\n",
              "      <td>20.0</td>\n",
              "      <td>20.0</td>\n",
              "      <td>20.0</td>\n",
              "      <td>20.0</td>\n",
              "      <td>20.0</td>\n",
              "      <td>20.0</td>\n",
              "      <td>-1.0</td>\n",
              "      <td>-1.0</td>\n",
              "      <td>1.0</td>\n",
              "      <td>1.0</td>\n",
              "      <td>-0.7</td>\n",
              "      <td>-0.7</td>\n",
              "      <td>0.0</td>\n",
              "      <td>0.0</td>\n",
              "      <td>20.0</td>\n",
              "      <td>20.0</td>\n",
              "      <td>20.0</td>\n",
              "      <td>20.0</td>\n",
              "      <td>20.0</td>\n",
              "      <td>20.0</td>\n",
              "      <td>20.0</td>\n",
              "      <td>20.0</td>\n",
              "      <td>0.43962</td>\n",
              "      <td>0.43962</td>\n",
              "      <td>0.262082</td>\n",
              "      <td>0.262082</td>\n",
              "      <td>0.0</td>\n",
              "      <td>0.0</td>\n",
              "      <td>0.0</td>\n",
              "      <td>0.0</td>\n",
              "      <td>0.0</td>\n",
              "      <td>0.0</td>\n",
              "      <td>0.0</td>\n",
              "      <td>0.0</td>\n",
              "      <td>0.0</td>\n",
              "      <td>0.0</td>\n",
              "      <td>0.0</td>\n",
              "      <td>0.0</td>\n",
              "      <td>0.0</td>\n",
              "    </tr>\n",
              "  </tbody>\n",
              "</table>\n",
              "</div>"
            ],
            "text/plain": [
              "           TimeStamp_x  ...  Label\n",
              "0  2018-09-21 14:15:00  ...    0.0\n",
              "\n",
              "[1 rows x 66 columns]"
            ]
          },
          "metadata": {
            "tags": []
          },
          "execution_count": 6
        }
      ]
    },
    {
      "cell_type": "code",
      "metadata": {
        "id": "kENd1StfoBjd",
        "outputId": "a03c18d1-bccd-4d33-f9df-0909d24367a0",
        "colab": {
          "base_uri": "https://localhost:8080/"
        }
      },
      "source": [
        "print(f\"Size of the dataset: {df.shape[0]}\\n# of Features: {df.shape[1]}\")"
      ],
      "execution_count": null,
      "outputs": [
        {
          "output_type": "stream",
          "text": [
            "Size of the dataset: 85305\n",
            "# of Features: 66\n"
          ],
          "name": "stdout"
        }
      ]
    },
    {
      "cell_type": "code",
      "metadata": {
        "id": "9bNSroFVofK2"
      },
      "source": [
        "\"\"\" split train, test, validation data \"\"\"\n",
        "\n",
        "df.drop(['TimeStamp_x'], axis = 1, inplace = True)\n",
        "\n",
        "train_size = 0.8\n",
        "train_valid_size = 0.8\n",
        "train_file = df.iloc[0:int(df.shape[0]*train_size),:]\n",
        "test = df.iloc[int(df.shape[0]*train_size):,:]\n",
        "train = train_file.iloc[0:int(train_file.shape[0]*train_size),:]\n",
        "valid = train_file.iloc[int(train_file.shape[0]*train_valid_size):,:]\n",
        "\n",
        "X_train = train.loc[:,:'ALM_Mainau2_HDVacValveFeed_Scale_PDP_y.1'].values\n",
        "y_train = train['Label'].values\n",
        "X_test = test.loc[:,:'ALM_Mainau2_HDVacValveFeed_Scale_PDP_y.1'].values\n",
        "y_test = test['Label'].values\n",
        "X_valid = valid.loc[:,:'ALM_Mainau2_HDVacValveFeed_Scale_PDP_y.1'].values\n",
        "y_valid = valid['Label'].values"
      ],
      "execution_count": null,
      "outputs": []
    },
    {
      "cell_type": "code",
      "metadata": {
        "id": "eqt5PNZ7NxI3",
        "outputId": "0d1689e1-94a7-4a30-b204-9fae5e8f76fd",
        "colab": {
          "base_uri": "https://localhost:8080/"
        }
      },
      "source": [
        "\"\"\" before rearranging data \"\"\"\n",
        "print(f\"Train features shape: {X_train.shape}\\t Train label shape: {y_train.shape}\")\n",
        "print(f\"Test features shape: {X_test.shape}\\t Train label shape: {y_test.shape}\")\n",
        "print(f\"Validation features shape: {X_valid.shape}\\t Validation label shape: {y_valid.shape}\")"
      ],
      "execution_count": null,
      "outputs": [
        {
          "output_type": "stream",
          "text": [
            "Train features shape: (54595, 64)\t Train label shape: (54595,)\n",
            "Test features shape: (17061, 64)\t Train label shape: (17061,)\n",
            "Validation features shape: (13649, 64)\t Validation label shape: (13649,)\n"
          ],
          "name": "stdout"
        }
      ]
    },
    {
      "cell_type": "code",
      "metadata": {
        "id": "9drQOyAEyMJP"
      },
      "source": [
        "\"\"\" encode and scale \"\"\"\n",
        "from sklearn.preprocessing import LabelEncoder, OneHotEncoder\n",
        "labelencoder = LabelEncoder()\n",
        "X_train[:,0] = labelencoder.fit_transform(X_train[:,0])\n",
        "X_test[:,0] = labelencoder.fit_transform(X_test[:,0])\n",
        "X_valid[:,0] = labelencoder.fit_transform(X_valid[:,0])\n",
        "\n",
        "\"\"\" prepare data \"\"\"\n",
        "X_train_y0 = X_train[y_train == 0]\n",
        "X_valid_y0 = X_valid[y_valid == 0]\n",
        "\n",
        "scaler = MinMaxScaler()\n",
        "scaler.fit(X_train_y0)\n",
        "X_train_y0_scaled = scaler.transform(X_train_y0)\n",
        "X_valid_y0_scaled = scaler.transform(X_valid_y0)"
      ],
      "execution_count": null,
      "outputs": []
    },
    {
      "cell_type": "code",
      "metadata": {
        "id": "7SfDm09xodRQ"
      },
      "source": [
        "\"\"\" scale validation and test data \"\"\"\n",
        "X_valid_scaled = scaler.transform(X_valid)\n",
        "X_test_scaled = scaler.transform(X_test)"
      ],
      "execution_count": null,
      "outputs": []
    },
    {
      "cell_type": "code",
      "metadata": {
        "id": "ZJGN2BMe6I8K"
      },
      "source": [
        "\"\"\" parameters \"\"\"\n",
        "epochs = 100\n",
        "batch_size = 16\n",
        "input_dim = X_train_y0_scaled.shape[1] # num of Features \n",
        "encoding_dim = 2\n",
        "learning_rate = 1e-3 # 0.001"
      ],
      "execution_count": null,
      "outputs": []
    },
    {
      "cell_type": "code",
      "metadata": {
        "id": "zRqd3aRf7C6C",
        "outputId": "f2cad7cd-fa90-4032-f8a7-8f6359acf8eb",
        "colab": {
          "base_uri": "https://localhost:8080/"
        }
      },
      "source": [
        "\"\"\" model \"\"\"\n",
        "encoder = Dense(encoding_dim, activation=\"linear\", input_shape=(input_dim,), use_bias = True) \n",
        "decoder = Dense(input_dim, activation=\"linear\", use_bias = True)\n",
        "\n",
        "autoencoder = Sequential()\n",
        "autoencoder.add(encoder)\n",
        "autoencoder.add(decoder)\n",
        "\n",
        "autoencoder.compile(loss='mean_squared_error', optimizer='sgd')\n",
        "autoencoder.summary()\n",
        "autoencoder_history = autoencoder.fit(X_train_y0_scaled, X_train_y0_scaled,\n",
        "                epochs=epochs,\n",
        "                batch_size=batch_size,\n",
        "                validation_data=(X_valid_y0_scaled, X_valid_y0_scaled),\n",
        "                shuffle=True,\n",
        "                verbose=0)"
      ],
      "execution_count": null,
      "outputs": [
        {
          "output_type": "stream",
          "text": [
            "Model: \"sequential_4\"\n",
            "_________________________________________________________________\n",
            "Layer (type)                 Output Shape              Param #   \n",
            "=================================================================\n",
            "dense_5 (Dense)              (None, 2)                 130       \n",
            "_________________________________________________________________\n",
            "dense_6 (Dense)              (None, 64)                192       \n",
            "=================================================================\n",
            "Total params: 322\n",
            "Trainable params: 322\n",
            "Non-trainable params: 0\n",
            "_________________________________________________________________\n"
          ],
          "name": "stdout"
        }
      ]
    },
    {
      "cell_type": "code",
      "metadata": {
        "id": "jtSWepXunjfC",
        "outputId": "ad5ea159-63df-4bef-f090-660fcf832a85",
        "colab": {
          "base_uri": "https://localhost:8080/",
          "height": 295
        }
      },
      "source": [
        "plt.plot(autoencoder_history.history['loss'], linewidth=2, label='Train')\n",
        "plt.plot(autoencoder_history.history['val_loss'], linewidth=2, label='Valid')\n",
        "plt.legend(loc='upper right')\n",
        "plt.title('Model loss')\n",
        "plt.ylabel('Loss')\n",
        "plt.xlabel('Epoch')\n",
        "plt.show()"
      ],
      "execution_count": null,
      "outputs": [
        {
          "output_type": "display_data",
          "data": {
            "image/png": "[encoded data removed]",
            "text/plain": [
              "<Figure size 432x288 with 1 Axes>"
            ]
          },
          "metadata": {
            "tags": [],
            "needs_background": "light"
          }
        }
      ]
    },
    {
      "cell_type": "code",
      "metadata": {
        "id": "Jwd-Xet3N5Ss",
        "outputId": "c618ea6c-9295-4d12-ef2e-6480260df4a2",
        "colab": {
          "base_uri": "https://localhost:8080/"
        }
      },
      "source": [
        "\"\"\" validation predictions for threshold selection \"\"\"\n",
        "x_valid_pred = autoencoder.predict(X_valid_scaled)\n",
        "mse = np.mean(np.power(X_valid_scaled - x_valid_pred, 2), axis=1)\n",
        "error_df = pd.DataFrame({'Reconstruction_error': mse, 'True_class': y_valid})\n",
        "\n",
        "print('Validation reconstrunction error\\n', sklearn.metrics.mean_squared_error(X_valid_scaled, x_valid_pred))"
      ],
      "execution_count": null,
      "outputs": [
        {
          "output_type": "stream",
          "text": [
            "Validation reconstrunction error\n",
            " 0.011695501584733814\n"
          ],
          "name": "stdout"
        }
      ]
    },
    {
      "cell_type": "code",
      "metadata": {
        "id": "YYrKo-eY7rrK",
        "outputId": "f9236c7a-5a9b-47c5-e753-48184cf00951",
        "colab": {
          "base_uri": "https://localhost:8080/"
        }
      },
      "source": [
        "\"\"\" testing reconstruction error \"\"\"\n",
        "x_test_pred = autoencoder.predict(X_test_scaled)\n",
        "print('Test reconstrunction error\\n', sklearn.metrics.mean_squared_error(X_test_scaled, x_test_pred))"
      ],
      "execution_count": null,
      "outputs": [
        {
          "output_type": "stream",
          "text": [
            "Test reconstrunction error\n",
            " 0.015786956850160006\n"
          ],
          "name": "stdout"
        }
      ]
    },
    {
      "cell_type": "code",
      "metadata": {
        "id": "gYIkV1yLSu4H",
        "outputId": "de8d6221-9e32-42f8-ca8b-034f45081aeb",
        "colab": {
          "base_uri": "https://localhost:8080/",
          "height": 295
        }
      },
      "source": [
        "false_pos_rate, true_pos_rate, thresholds = roc_curve(error_df.True_class, error_df.Reconstruction_error)\n",
        "roc_auc = auc(false_pos_rate, true_pos_rate)\n",
        "\n",
        "plt.plot(false_pos_rate, true_pos_rate, linewidth=5, label='AUC = %0.3f'% roc_auc)\n",
        "plt.plot([0,1],[0,1], linewidth=5)\n",
        "\n",
        "plt.xlim([-0.01, 1])\n",
        "plt.ylim([0, 1.01])\n",
        "plt.legend(loc='lower right')\n",
        "plt.title('Receiver operating characteristic curve (ROC)')\n",
        "plt.ylabel('True Positive Rate')\n",
        "plt.xlabel('False Positive Rate')\n",
        "plt.show()"
      ],
      "execution_count": null,
      "outputs": [
        {
          "output_type": "display_data",
          "data": {
            "image/png": "[encoded data removed]",
            "text/plain": [
              "<Figure size 432x288 with 1 Axes>"
            ]
          },
          "metadata": {
            "tags": [],
            "needs_background": "light"
          }
        }
      ]
    },
    {
      "cell_type": "code",
      "metadata": {
        "id": "3FHN3SbQa1Hg",
        "outputId": "9c4ee4ca-6763-4a59-e7a9-c4cdae7e203a",
        "colab": {
          "base_uri": "https://localhost:8080/"
        }
      },
      "source": [
        "\"\"\" Plot reconstruction errors for positive and negative data points \"\"\"\n",
        "mse = np.mean(np.power(X_test_scaled - x_test_pred, 2), axis=1)\n",
        "\n",
        "error_df = pd.DataFrame({'Reconstruction_error': mse,\n",
        "                        'True_class': y_test})\n",
        "threshold = round(np.mean(error_df.Reconstruction_error),2)\n",
        "print(f\"Threshold selected is: {threshold}\")"
      ],
      "execution_count": null,
      "outputs": [
        {
          "output_type": "stream",
          "text": [
            "Threshold selected is: 0.02\n"
          ],
          "name": "stdout"
        }
      ]
    },
    {
      "cell_type": "code",
      "metadata": {
        "id": "rGns65OIrlVP",
        "outputId": "9e990b78-e8a2-4a31-e290-f7dcf091a419",
        "colab": {
          "base_uri": "https://localhost:8080/",
          "height": 295
        }
      },
      "source": [
        "\"\"\" Reconstruction error for different classes \"\"\"\n",
        "groups = error_df.groupby('True_class')\n",
        "fig, ax = plt.subplots()\n",
        "\n",
        "for name, group in groups:\n",
        "    ax.plot(group.index, group.Reconstruction_error, marker='o', ms=3.5, linestyle='',\n",
        "            label= \"Abnormal\" if name == 1 else \"Normal\")\n",
        "ax.hlines(threshold, ax.get_xlim()[0], ax.get_xlim()[1], colors=\"r\", zorder=100, label='Threshold')\n",
        "ax.legend()\n",
        "plt.title(\"Reconstruction error for different classes\")\n",
        "plt.ylabel(\"Reconstruction error\")\n",
        "plt.xlabel(\"Data point index\")\n",
        "plt.show();"
      ],
      "execution_count": null,
      "outputs": [
        {
          "output_type": "display_data",
          "data": {
            "image/png": "[encoded data removed]",
            "text/plain": [
              "<Figure size 432x288 with 1 Axes>"
            ]
          },
          "metadata": {
            "tags": [],
            "needs_background": "light"
          }
        }
      ]
    },
    {
      "cell_type": "code",
      "metadata": {
        "id": "iJ_PVthVthwJ",
        "outputId": "88daad5a-e97e-4bde-dc3f-9c27b4e9625e",
        "colab": {
          "base_uri": "https://localhost:8080/",
          "height": 404
        }
      },
      "source": [
        "\"\"\" Plot ROC Curve \"\"\"\n",
        "\n",
        "LABELS = [\"Normal\",\"Abnormal\"]\n",
        "\n",
        "pred_y = [1 if e > threshold else 0 for e in error_df.Reconstruction_error.values]\n",
        "conf_matrix = confusion_matrix(error_df.True_class, pred_y)\n",
        "\n",
        "plt.figure(figsize=(6, 6))\n",
        "sns.heatmap(conf_matrix, xticklabels=LABELS, yticklabels=LABELS, annot=True, fmt=\"d\");\n",
        "plt.title(\"Confusion matrix\")\n",
        "plt.ylabel('True class')\n",
        "plt.xlabel('Predicted class')\n",
        "plt.show()"
      ],
      "execution_count": null,
      "outputs": [
        {
          "output_type": "display_data",
          "data": {
            "image/png": "[encoded data removed]",
            "text/plain": [
              "<Figure size 432x432 with 2 Axes>"
            ]
          },
          "metadata": {
            "tags": [],
            "needs_background": "light"
          }
        }
      ]
    },
    {
      "cell_type": "code",
      "metadata": {
        "id": "PAOgLIyluZgp",
        "outputId": "5a5cf372-8fbf-4281-ff85-fbecfc0be5b3",
        "colab": {
          "base_uri": "https://localhost:8080/",
          "height": 295
        }
      },
      "source": [
        "\"\"\" plot the ROC curve again \"\"\"\n",
        "false_pos_rate, true_pos_rate, thresholds = roc_curve(error_df.True_class, error_df.Reconstruction_error)\n",
        "roc_auc = auc(false_pos_rate, true_pos_rate,)\n",
        "\n",
        "plt.plot(false_pos_rate, true_pos_rate, linewidth=5, label='AUC = %0.3f'% roc_auc)\n",
        "plt.plot([0,1],[0,1], linewidth=5)\n",
        "\n",
        "plt.xlim([-0.01, 1])\n",
        "plt.ylim([0, 1.01])\n",
        "plt.legend(loc='lower right')\n",
        "plt.title('Receiver operating characteristic curve (ROC)')\n",
        "plt.ylabel('True Positive Rate')\n",
        "plt.xlabel('False Positive Rate')\n",
        "plt.show()"
      ],
      "execution_count": null,
      "outputs": [
        {
          "output_type": "display_data",
          "data": {
            "image/png": "[encoded data removed]",
            "text/plain": [
              "<Figure size 432x288 with 1 Axes>"
            ]
          },
          "metadata": {
            "tags": [],
            "needs_background": "light"
          }
        }
      ]
    },
    {
      "cell_type": "markdown",
      "metadata": {
        "id": "F4Z4u2CmZRhM"
      },
      "source": [
        "## Optimizing Autoencoder (no hyperparameter optimization)\n",
        "\n",
        "> **1)** Equal weights -- encoder & decoder \n",
        "\n",
        "> **2)** Weight orthogonality -- encoder \n",
        "\n",
        "> **3)** Weight orthogonality -- encoder & decoder \n",
        "\n",
        "> **4)** Unit Norm Constraint -- encoder & decoder \n",
        "\n",
        "> **4)** Try Different Combinations & choose best \n",
        "\n",
        "> **4)** Plot Best Results \n",
        "\n",
        "> -- **Hyperparameter Optimization** -- "
      ]
    },
    {
      "cell_type": "code",
      "metadata": {
        "id": "zgThfT4znAOb",
        "outputId": "70776ab9-0918-484d-9bab-dc6c901f59ac",
        "colab": {
          "base_uri": "https://localhost:8080/"
        }
      },
      "source": [
        ";\"\"\" weights are different between encoder and decoder \"\"\"\n",
        "w_encoder = np.round(np.transpose(autoencoder.layers[0].get_weights()[0]), 3)\n",
        "w_decoder = np.round(autoencoder.layers[1].get_weights()[0], 3)\n",
        "print('Encoder weights\\n', w_encoder)\n",
        "print('Decoder weights\\n', w_decoder)"
      ],
      "execution_count": null,
      "outputs": [
        {
          "output_type": "stream",
          "text": [
            "Encoder weights\n",
            " [[ 0.34   0.038  0.019  0.041 -0.229  0.292  0.392  0.01   0.097  0.051\n",
            "  -0.343 -0.113 -0.193 -0.023  0.204 -0.276  0.202  0.334  0.023 -0.179\n",
            "   0.017  0.177 -0.158 -0.158  0.155 -0.003  0.069 -0.26  -0.202  0.103\n",
            "   0.109 -0.298 -0.148 -0.02   0.033 -0.066 -0.209 -0.04   0.102 -0.15\n",
            "   0.227  0.006  0.13   0.081 -0.11   0.01  -0.043 -0.031 -0.286 -0.035\n",
            "   0.103  0.284 -0.124  0.075  0.276 -0.246  0.266  0.069  0.026 -0.219\n",
            "   0.196  0.184 -0.2   -0.052]\n",
            " [-0.018  0.192 -0.329 -0.287  0.144 -0.23   0.044  0.117  0.128  0.044\n",
            "  -0.269 -0.099  0.36   0.087 -0.096 -0.212  0.072 -0.22  -0.083 -0.011\n",
            "   0.211  0.232 -0.291  0.179 -0.079 -0.117  0.08  -0.265  0.23   0.017\n",
            "   0.07  -0.373 -0.275 -0.045 -0.193 -0.135 -0.175 -0.284 -0.163  0.127\n",
            "  -0.001  0.24  -0.085  0.122 -0.043 -0.033  0.014 -0.059  0.133  0.16\n",
            "  -0.075  0.156 -0.159  0.22  -0.026  0.158 -0.288  0.193 -0.03   0.072\n",
            "   0.138  0.117 -0.098 -0.072]]\n",
            "Decoder weights\n",
            " [[ 0.547  0.164 -0.028 -0.231 -0.006 -0.006  0.301 -0.236  0.291 -0.078\n",
            "  -0.092 -0.092 -0.252  0.168 -0.004 -0.3    0.202  0.169 -0.044 -0.238\n",
            "  -0.006 -0.006  0.117 -0.263  0.283 -0.085 -0.106 -0.106 -0.249  0.159\n",
            "  -0.012 -0.304  0.19   0.159 -0.01  -0.209 -0.005 -0.005  0.317 -0.202\n",
            "   0.299 -0.073 -0.073 -0.073 -0.249  0.173 -0.004 -0.274  0.001  0.\n",
            "  -0.047 -0.034 -0.    -0.    -0.    -0.005 -0.019 -0.028 -0.047 -0.047\n",
            "  -0.    -0.001 -0.023 -0.035]\n",
            " [-0.057 -0.149 -0.288 -0.343 -0.039 -0.039 -0.284  0.243 -0.025  0.191\n",
            "  -0.243 -0.243  0.219 -0.099  0.224 -0.301 -0.15  -0.153 -0.304 -0.358\n",
            "  -0.039 -0.039 -0.111  0.258 -0.034  0.183 -0.253 -0.253  0.215 -0.1\n",
            "   0.211 -0.312 -0.143 -0.145 -0.271 -0.322 -0.039 -0.039 -0.296  0.222\n",
            "  -0.018  0.198 -0.226 -0.226  0.219 -0.098  0.23  -0.276  0.     0.\n",
            "  -0.038 -0.036  0.     0.    -0.002 -0.013 -0.025 -0.026 -0.038 -0.038\n",
            "  -0.003 -0.01  -0.03  -0.036]]\n"
          ],
          "name": "stdout"
        }
      ]
    },
    {
      "cell_type": "code",
      "metadata": {
        "id": "ViGC0rg8Y8xP"
      },
      "source": [
        "\"\"\" Ranjan, C. (2019, December 22). \n",
        "    Build the right Autoencoder - Tune and Optimize using PCA principles. Part II. \n",
        "    Retrieved November 09, 2020. \n",
        "\"\"\"\n",
        "class DenseTied(Layer):\n",
        "    def __init__(self, units,\n",
        "                 activation=None,\n",
        "                 use_bias=True,\n",
        "                 kernel_initializer='glorot_uniform',\n",
        "                 bias_initializer='zeros',\n",
        "                 kernel_regularizer=None,\n",
        "                 bias_regularizer=None,\n",
        "                 activity_regularizer=None,\n",
        "                 kernel_constraint=None,\n",
        "                 bias_constraint=None,\n",
        "                 tied_to=None,\n",
        "                 **kwargs):\n",
        "        self.tied_to = tied_to\n",
        "        if 'input_shape' not in kwargs and 'input_dim' in kwargs:\n",
        "            kwargs['input_shape'] = (kwargs.pop('input_dim'),)\n",
        "        super().__init__(**kwargs)\n",
        "        self.units = units\n",
        "        self.activation = activations.get(activation)\n",
        "        self.use_bias = use_bias\n",
        "        self.kernel_initializer = initializers.get(kernel_initializer)\n",
        "        self.bias_initializer = initializers.get(bias_initializer)\n",
        "        self.kernel_regularizer = regularizers.get(kernel_regularizer)\n",
        "        self.bias_regularizer = regularizers.get(bias_regularizer)\n",
        "        self.activity_regularizer = regularizers.get(activity_regularizer)\n",
        "        self.kernel_constraint = constraints.get(kernel_constraint)\n",
        "        self.bias_constraint = constraints.get(bias_constraint)\n",
        "        self.input_spec = InputSpec(min_ndim=2)\n",
        "        self.supports_masking = True\n",
        "                \n",
        "    def build(self, input_shape):\n",
        "        assert len(input_shape) >= 2\n",
        "        input_dim = input_shape[-1]\n",
        "\n",
        "        if self.tied_to is not None:\n",
        "            self.kernel = K.transpose(self.tied_to.kernel)\n",
        "            self._non_trainable_weights.append(self.kernel)\n",
        "        else:\n",
        "            self.kernel = self.add_weight(shape=(input_dim, self.units),\n",
        "                                          initializer=self.kernel_initializer,\n",
        "                                          name='kernel',\n",
        "                                          regularizer=self.kernel_regularizer,\n",
        "                                          constraint=self.kernel_constraint)\n",
        "        if self.use_bias:\n",
        "            self.bias = self.add_weight(shape=(self.units,),\n",
        "                                        initializer=self.bias_initializer,\n",
        "                                        name='bias',\n",
        "                                        regularizer=self.bias_regularizer,\n",
        "                                        constraint=self.bias_constraint)\n",
        "        else:\n",
        "            self.bias = None\n",
        "        self.input_spec = InputSpec(min_ndim=2, axes={-1: input_dim})\n",
        "        self.built = True\n",
        "\n",
        "    def compute_output_shape(self, input_shape):\n",
        "        assert input_shape and len(input_shape) >= 2\n",
        "        output_shape = list(input_shape)\n",
        "        output_shape[-1] = self.units\n",
        "        return tuple(output_shape)\n",
        "\n",
        "    def call(self, inputs):\n",
        "        output = K.dot(inputs, self.kernel)\n",
        "        if self.use_bias:\n",
        "            output = K.bias_add(output, self.bias, data_format='channels_last')\n",
        "        if self.activation is not None:\n",
        "            output = self.activation(output)\n",
        "        return output"
      ],
      "execution_count": null,
      "outputs": []
    },
    {
      "cell_type": "code",
      "metadata": {
        "id": "3XAsLxCCY-Qd",
        "outputId": "25c05a27-048c-4e34-bdbb-f0eb1ac58421",
        "colab": {
          "base_uri": "https://localhost:8080/"
        }
      },
      "source": [
        "encoder = Dense(encoding_dim, activation=\"linear\", input_shape=(input_dim,), use_bias = True) \n",
        "decoder = DenseTied(input_dim, activation=\"linear\", tied_to=encoder, use_bias = True)\n",
        "autoencoder = Sequential()\n",
        "\n",
        "autoencoder.add(encoder)\n",
        "autoencoder.add(decoder)\n",
        "autoencoder.compile(loss='mean_squared_error', optimizer='sgd')\n",
        "autoencoder.summary()\n",
        "\n",
        "autoencoder_history = autoencoder.fit(X_train_y0_scaled, X_train_y0_scaled,\n",
        "                epochs=epochs,\n",
        "                batch_size=batch_size,\n",
        "                validation_data = (X_valid_y0_scaled, X_valid_y0_scaled),\n",
        "                shuffle=True,\n",
        "                verbose=0)"
      ],
      "execution_count": null,
      "outputs": [
        {
          "output_type": "stream",
          "text": [
            "Model: \"sequential_8\"\n",
            "_________________________________________________________________\n",
            "Layer (type)                 Output Shape              Param #   \n",
            "=================================================================\n",
            "dense_10 (Dense)             (None, 2)                 130       \n",
            "_________________________________________________________________\n",
            "dense_tied_6 (DenseTied)     (None, 64)                322       \n",
            "=================================================================\n",
            "Total params: 322\n",
            "Trainable params: 194\n",
            "Non-trainable params: 128\n",
            "_________________________________________________________________\n"
          ],
          "name": "stdout"
        }
      ]
    },
    {
      "cell_type": "code",
      "metadata": {
        "id": "Xq9I16l4ih7v",
        "outputId": "4dfaea44-d753-41ab-82cd-077a2593271d",
        "colab": {
          "base_uri": "https://localhost:8080/"
        }
      },
      "source": [
        "\"\"\" weights are supposed to be equal \"\"\"\n",
        "w_encoder = np.round(np.transpose(autoencoder.layers[0].get_weights()[0]), 3)\n",
        "w_decoder = np.round(autoencoder.layers[1].get_weights()[1], 3)\n",
        "print('Encoder weights\\n', w_encoder)\n",
        "print('Decoder weights\\n', w_decoder)"
      ],
      "execution_count": null,
      "outputs": [
        {
          "output_type": "stream",
          "text": [
            "Encoder weights\n",
            " [[-0.105 -0.069  0.106 -0.242  0.132 -0.11   0.203  0.226 -0.105 -0.265\n",
            "  -0.257 -0.251  0.014 -0.222 -0.07   0.28  -0.082  0.23  -0.195 -0.055\n",
            "   0.111 -0.26   0.004 -0.172  0.031  0.182 -0.214  0.324 -0.115 -0.094\n",
            "   0.055 -0.096 -0.177  0.137  0.069 -0.101  0.089 -0.011 -0.09   0.026\n",
            "  -0.151  0.221  0.321 -0.237 -0.066  0.037  0.243  0.015 -0.223  0.244\n",
            "   0.137 -0.016 -0.206  0.094  0.196 -0.267  0.25  -0.274 -0.077  0.016\n",
            "   0.191  0.174  0.077 -0.082]\n",
            " [ 0.138 -0.226  0.146  0.18   0.076  0.218  0.183 -0.044 -0.223 -0.064\n",
            "   0.021 -0.21  -0.241 -0.141 -0.01   0.071  0.16   0.056 -0.054  0.182\n",
            "   0.236 -0.26   0.034  0.162  0.142 -0.271  0.058  0.04   0.259  0.204\n",
            "  -0.123 -0.196 -0.276 -0.212  0.133  0.123  0.094 -0.167  0.142 -0.204\n",
            "   0.035  0.228  0.223 -0.114  0.072  0.177  0.118 -0.246 -0.099 -0.13\n",
            "   0.289 -0.152  0.017  0.108  0.189 -0.157 -0.039  0.272 -0.299  0.038\n",
            "   0.008 -0.223 -0.005 -0.151]]\n",
            "Decoder weights\n",
            " [[-0.105  0.138]\n",
            " [-0.069 -0.226]\n",
            " [ 0.106  0.146]\n",
            " [-0.242  0.18 ]\n",
            " [ 0.132  0.076]\n",
            " [-0.11   0.218]\n",
            " [ 0.203  0.183]\n",
            " [ 0.226 -0.044]\n",
            " [-0.105 -0.223]\n",
            " [-0.265 -0.064]\n",
            " [-0.257  0.021]\n",
            " [-0.251 -0.21 ]\n",
            " [ 0.014 -0.241]\n",
            " [-0.222 -0.141]\n",
            " [-0.07  -0.01 ]\n",
            " [ 0.28   0.071]\n",
            " [-0.082  0.16 ]\n",
            " [ 0.23   0.056]\n",
            " [-0.195 -0.054]\n",
            " [-0.055  0.182]\n",
            " [ 0.111  0.236]\n",
            " [-0.26  -0.26 ]\n",
            " [ 0.004  0.034]\n",
            " [-0.172  0.162]\n",
            " [ 0.031  0.142]\n",
            " [ 0.182 -0.271]\n",
            " [-0.214  0.058]\n",
            " [ 0.324  0.04 ]\n",
            " [-0.115  0.259]\n",
            " [-0.094  0.204]\n",
            " [ 0.055 -0.123]\n",
            " [-0.096 -0.196]\n",
            " [-0.177 -0.276]\n",
            " [ 0.137 -0.212]\n",
            " [ 0.069  0.133]\n",
            " [-0.101  0.123]\n",
            " [ 0.089  0.094]\n",
            " [-0.011 -0.167]\n",
            " [-0.09   0.142]\n",
            " [ 0.026 -0.204]\n",
            " [-0.151  0.035]\n",
            " [ 0.221  0.228]\n",
            " [ 0.321  0.223]\n",
            " [-0.237 -0.114]\n",
            " [-0.066  0.072]\n",
            " [ 0.037  0.177]\n",
            " [ 0.243  0.118]\n",
            " [ 0.015 -0.246]\n",
            " [-0.223 -0.099]\n",
            " [ 0.244 -0.13 ]\n",
            " [ 0.137  0.289]\n",
            " [-0.016 -0.152]\n",
            " [-0.206  0.017]\n",
            " [ 0.094  0.108]\n",
            " [ 0.196  0.189]\n",
            " [-0.267 -0.157]\n",
            " [ 0.25  -0.039]\n",
            " [-0.274  0.272]\n",
            " [-0.077 -0.299]\n",
            " [ 0.016  0.038]\n",
            " [ 0.191  0.008]\n",
            " [ 0.174 -0.223]\n",
            " [ 0.077 -0.005]\n",
            " [-0.082 -0.151]]\n"
          ],
          "name": "stdout"
        }
      ]
    },
    {
      "cell_type": "code",
      "metadata": {
        "id": "Dxaseb97SejA",
        "outputId": "1c25ab52-2b1d-401b-82ff-6a3c58c58263",
        "colab": {
          "base_uri": "https://localhost:8080/"
        }
      },
      "source": [
        "b_encoder = np.round(np.transpose(autoencoder.layers[0].get_weights()[1]), 3)\n",
        "b_decoder = np.round(np.transpose(autoencoder.layers[1].get_weights()[0]), 3)\n",
        "print('Encoder bias\\n', b_encoder)\n",
        "print('Decoder bias\\n', b_decoder)"
      ],
      "execution_count": null,
      "outputs": [
        {
          "output_type": "stream",
          "text": [
            "Encoder bias\n",
            " [-0.015 -0.   ]\n",
            "Decoder bias\n",
            " [ 0.361  0.563  0.46   0.387  0.518  0.408  0.833  0.379  0.306  0.4\n",
            "  0.422  0.505  0.229  0.293  0.387  0.56   0.421  0.527  0.473  0.476\n",
            "  0.457  0.538  0.319  0.152  0.222  0.582  0.43   0.572  0.013  0.2\n",
            "  0.472  0.598  0.57   0.618  0.44   0.406  0.501  0.567  0.811  0.457\n",
            "  0.196  0.417  0.48   0.458  0.111  0.245  0.402  0.573 -0.018  0.11\n",
            " -0.034  0.131 -0.058 -0.014 -0.009  0.01   0.115 -0.136  0.121  0.026\n",
            "  0.056  0.151  0.103  0.114]\n"
          ],
          "name": "stdout"
        }
      ]
    },
    {
      "cell_type": "code",
      "metadata": {
        "id": "8K7-LX1KTFFt",
        "outputId": "a87a7c73-9ca2-4948-e645-8ea5013dec2d",
        "colab": {
          "base_uri": "https://localhost:8080/"
        }
      },
      "source": [
        "\"\"\" validation predictions for threshold selection \"\"\"\n",
        "x_valid_pred = autoencoder.predict(X_valid_scaled)\n",
        "mse = np.mean(np.power(X_valid_scaled - x_valid_pred, 2), axis=1)\n",
        "error_df = pd.DataFrame({'Reconstruction_error': mse, 'True_class': y_valid})\n",
        "\n",
        "print('Validation reconstrunction error\\n', sklearn.metrics.mean_squared_error(X_valid_scaled, x_valid_pred))"
      ],
      "execution_count": null,
      "outputs": [
        {
          "output_type": "stream",
          "text": [
            "Validation reconstrunction error\n",
            " 0.016321615283485483\n"
          ],
          "name": "stdout"
        }
      ]
    },
    {
      "cell_type": "code",
      "metadata": {
        "id": "RkA3bDK0TFF1",
        "outputId": "bf4515fb-8dd4-47b4-b062-026c83186fb1",
        "colab": {
          "base_uri": "https://localhost:8080/"
        }
      },
      "source": [
        "\"\"\" testing reconstruction error \"\"\"\n",
        "x_test_pred = autoencoder.predict(X_test_scaled)\n",
        "print('Test reconstrunction error\\n', sklearn.metrics.mean_squared_error(X_test_scaled, x_test_pred))"
      ],
      "execution_count": null,
      "outputs": [
        {
          "output_type": "stream",
          "text": [
            "Test reconstrunction error\n",
            " 0.01994057595899215\n"
          ],
          "name": "stdout"
        }
      ]
    },
    {
      "cell_type": "code",
      "metadata": {
        "id": "zJnRH3vfTJhP"
      },
      "source": [
        "\"\"\" weight orthogonality \"\"\"\n",
        "\n",
        "\"\"\" Ranjan, C. (2019, December 22). \n",
        "    Build the right Autoencoder - Tune and Optimize using PCA principles. Part II. \n",
        "    Retrieved November 09, 2020. \n",
        "\"\"\"\n",
        "class WeightsOrthogonalityConstraint (Constraint):\n",
        "    def __init__(self, encoding_dim, weightage = 1.0, axis = 0):\n",
        "        self.encoding_dim = encoding_dim\n",
        "        self.weightage = weightage\n",
        "        self.axis = axis\n",
        "        \n",
        "    def weights_orthogonality(self, w):\n",
        "        if(self.axis==1):\n",
        "            w = K.transpose(w)\n",
        "        if(self.encoding_dim > 1):\n",
        "            m = K.dot(K.transpose(w), w) - K.eye(self.encoding_dim)\n",
        "            return self.weightage * K.sqrt(K.sum(K.square(m)))\n",
        "        else:\n",
        "            m = K.sum(w ** 2) - 1.\n",
        "            return m\n",
        "\n",
        "    def __call__(self, w):\n",
        "        return self.weights_orthogonality(w)"
      ],
      "execution_count": null,
      "outputs": []
    },
    {
      "cell_type": "code",
      "metadata": {
        "id": "SqcOQbpZY6gL"
      },
      "source": [
        "tf.__version__ # 2.3.0\n",
        "tf.config.run_functions_eagerly(True) # for value error "
      ],
      "execution_count": null,
      "outputs": []
    },
    {
      "cell_type": "code",
      "metadata": {
        "id": "33H9reTeXqmn"
      },
      "source": [
        "\"\"\" encoder weight orthogonality \"\"\"\n",
        "encoder = Dense(encoding_dim, activation=\"linear\", input_shape=(input_dim,), use_bias=True, \n",
        "                kernel_regularizer = WeightsOrthogonalityConstraint(encoding_dim, weightage=1., axis=0)) \n",
        "decoder = Dense(input_dim, activation=\"linear\", use_bias = True)\n",
        "\n",
        "autoencoder = Sequential()\n",
        "autoencoder.add(encoder)\n",
        "autoencoder.add(decoder)\n",
        "\n",
        "autoencoder.compile(loss='mean_squared_error', optimizer='sgd')\n",
        "autoencoder.summary()\n",
        "\n",
        "start_time = time.time() \n",
        "autoencoder.fit(X_train_y0_scaled, X_train_y0_scaled,\n",
        "                epochs=epochs,\n",
        "                batch_size=batch_size,\n",
        "                validation_data = (X_valid_y0_scaled, X_valid_y0_scaled),\n",
        "                shuffle=True,\n",
        "                verbose=1)\n",
        "end_time = time.time()\n",
        "print(f\"Training & Validation Time (seconds): {end_time - start_time}\")"
      ],
      "execution_count": null,
      "outputs": []
    },
    {
      "cell_type": "code",
      "metadata": {
        "id": "m_2E7K5_tw4f",
        "outputId": "b6dea56a-2064-4b60-99fe-99415d3d6b69",
        "colab": {
          "base_uri": "https://localhost:8080/"
        }
      },
      "source": [
        "\"\"\" close to orthogonal \"\"\"\n",
        "w_encoder = autoencoder.layers[0].get_weights()[0]\n",
        "print('Encoder weights dot product\\n', np.round(np.dot(w_encoder.T, w_encoder), 2))\n",
        "\n",
        "w_decoder = autoencoder.layers[1].get_weights()[0]\n",
        "print('Decoder weights dot product\\n', np.round(np.dot(w_decoder, w_decoder.T), 2))"
      ],
      "execution_count": null,
      "outputs": [
        {
          "output_type": "stream",
          "text": [
            "Encoder weights dot product\n",
            " [[ 0.97 -0.  ]\n",
            " [-0.    0.97]]\n",
            "Decoder weights dot product\n",
            " [[2.34 0.06]\n",
            " [0.06 2.13]]\n"
          ],
          "name": "stdout"
        }
      ]
    },
    {
      "cell_type": "code",
      "metadata": {
        "id": "60H9D6FburEr",
        "outputId": "0708a4c5-d734-4cbd-9ffe-3e2acf1a5096",
        "colab": {
          "base_uri": "https://localhost:8080/"
        }
      },
      "source": [
        "\"\"\" validation predictions for threshold selection \"\"\"\n",
        "x_valid_pred = autoencoder.predict(X_valid_scaled)\n",
        "mse = np.mean(np.power(X_valid_scaled - x_valid_pred, 2), axis=1)\n",
        "error_df = pd.DataFrame({'Reconstruction_error': mse, 'True_class': y_valid})\n",
        "\n",
        "print('Validation reconstrunction error\\n', sklearn.metrics.mean_squared_error(X_valid_scaled, x_valid_pred))"
      ],
      "execution_count": null,
      "outputs": [
        {
          "output_type": "stream",
          "text": [
            "/usr/local/lib/python3.6/dist-packages/tensorflow/python/data/ops/dataset_ops.py:3350: UserWarning: Even though the tf.config.experimental_run_functions_eagerly option is set, this option does not apply to tf.data functions. tf.data functions are still traced and executed as graphs.\n",
            "  \"Even though the tf.config.experimental_run_functions_eagerly \"\n"
          ],
          "name": "stderr"
        },
        {
          "output_type": "stream",
          "text": [
            "Validation reconstrunction error\n",
            " 0.011302129026290776\n"
          ],
          "name": "stdout"
        }
      ]
    },
    {
      "cell_type": "code",
      "metadata": {
        "id": "0819QMpNvLJw",
        "outputId": "7b1b0883-a54d-4314-cd57-5fc5abd6ee36",
        "colab": {
          "base_uri": "https://localhost:8080/"
        }
      },
      "source": [
        "\"\"\" testing reconstruction error \"\"\"\n",
        "x_test_pred = autoencoder.predict(X_test_scaled)\n",
        "print('Test reconstrunction error\\n', sklearn.metrics.mean_squared_error(X_test_scaled, x_test_pred))"
      ],
      "execution_count": null,
      "outputs": [
        {
          "output_type": "stream",
          "text": [
            "/usr/local/lib/python3.6/dist-packages/tensorflow/python/data/ops/dataset_ops.py:3350: UserWarning: Even though the tf.config.experimental_run_functions_eagerly option is set, this option does not apply to tf.data functions. tf.data functions are still traced and executed as graphs.\n",
            "  \"Even though the tf.config.experimental_run_functions_eagerly \"\n"
          ],
          "name": "stderr"
        },
        {
          "output_type": "stream",
          "text": [
            "Test reconstrunction error\n",
            " 0.015356530556431592\n"
          ],
          "name": "stdout"
        }
      ]
    },
    {
      "cell_type": "code",
      "metadata": {
        "id": "vgTQQEuEvQ3X"
      },
      "source": [
        "\"\"\" encoder & decoder weight orthogonality \"\"\"\n",
        "encoder = Dense(encoding_dim, activation=\"linear\", input_shape=(input_dim,), use_bias=True, \n",
        "                kernel_regularizer = WeightsOrthogonalityConstraint(encoding_dim, weightage=1., axis=0)) \n",
        "decoder = Dense(input_dim, activation=\"linear\", use_bias = True, \n",
        "                kernel_regularizer=WeightsOrthogonalityConstraint(encoding_dim, weightage=1., axis=1))\n",
        "\n",
        "autoencoder = Sequential()\n",
        "autoencoder.add(encoder)\n",
        "autoencoder.add(decoder)\n",
        "\n",
        "autoencoder.compile(loss='mean_squared_error', optimizer='sgd')\n",
        "autoencoder.summary()\n",
        "\n",
        "start_time = time.time() \n",
        "autoencoder.fit(X_train_y0_scaled, X_train_y0_scaled,\n",
        "                epochs=epochs,\n",
        "                batch_size=batch_size,\n",
        "                validation_data = (X_valid_y0_scaled, X_valid_y0_scaled),\n",
        "                shuffle=True,\n",
        "                verbose=1)\n",
        "end_time = time.time()\n",
        "print(f\"Training & Validation Time (seconds): {end_time - start_time}\")"
      ],
      "execution_count": null,
      "outputs": []
    },
    {
      "cell_type": "code",
      "metadata": {
        "id": "dnSmJwA1-nTs",
        "outputId": "928ae0d1-0391-4836-fdd6-1eef2abb78dd",
        "colab": {
          "base_uri": "https://localhost:8080/"
        }
      },
      "source": [
        "\"\"\" vectors are orthogonal \"\"\"\n",
        "w_encoder = autoencoder.layers[0].get_weights()[0]\n",
        "print('Encoder weights dot product\\n', np.round(np.dot(w_encoder.T, w_encoder), 2))\n",
        "\n",
        "w_decoder = autoencoder.layers[1].get_weights()[0]\n",
        "print('Decoder weights dot product\\n', np.round(np.dot(w_decoder, w_decoder.T), 2))"
      ],
      "execution_count": null,
      "outputs": [
        {
          "output_type": "stream",
          "text": [
            "Encoder weights dot product\n",
            " [[ 1.01 -0.  ]\n",
            " [-0.    0.99]]\n",
            "Decoder weights dot product\n",
            " [[ 1.01 -0.  ]\n",
            " [-0.    0.99]]\n"
          ],
          "name": "stdout"
        }
      ]
    },
    {
      "cell_type": "code",
      "metadata": {
        "id": "LkthJWBJ-zxa"
      },
      "source": [
        "\"\"\" For uncorrelated features, \n",
        "    penalty on the sum of off-diagonal elements of \n",
        "    the encoded features covariance\n",
        "\"\"\"\n",
        "\n",
        "\"\"\" Ranjan, C. (2019, December 22). \n",
        "    Build the right Autoencoder - Tune and Optimize using PCA principles. Part II. \n",
        "    Retrieved November 09, 2020. \n",
        "\"\"\"\n",
        "class UncorrelatedFeaturesConstraint (Constraint):\n",
        "\n",
        "    def __init__(self, encoding_dim, weightage=1.0):\n",
        "        self.encoding_dim = encoding_dim\n",
        "        self.weightage = weightage\n",
        "\n",
        "    def get_covariance(self, x):\n",
        "        x_centered_list = []\n",
        "\n",
        "        for i in range(self.encoding_dim):\n",
        "            x_centered_list.append(x[:, i] - K.mean(x[:, i]))\n",
        "\n",
        "        x_centered = tf.stack(x_centered_list)\n",
        "        covariance = K.dot(x_centered, K.transpose(x_centered)) / \\\n",
        "            tf.cast(x_centered.get_shape()[0], tf.float32)\n",
        "\n",
        "        return covariance\n",
        "\n",
        "    # Constraint penalty\n",
        "    def uncorrelated_feature(self, x):\n",
        "        if(self.encoding_dim <= 1):\n",
        "            return 0.0\n",
        "        else:\n",
        "            output = K.sum(K.square(\n",
        "                self.covariance - tf.math.multiply(self.covariance, tf.eye(self.encoding_dim))))\n",
        "            return output\n",
        "\n",
        "    def __call__(self, x):\n",
        "        self.covariance = self.get_covariance(x)\n",
        "        return self.weightage * self.uncorrelated_feature(x)"
      ],
      "execution_count": null,
      "outputs": []
    },
    {
      "cell_type": "code",
      "metadata": {
        "id": "8nic0tVT-9eO"
      },
      "source": [
        "\"\"\" apply the constraint on the model separately for encoder layer \"\"\"\n",
        "encoder = Dense(encoding_dim, activation=\"linear\", input_shape=(input_dim,), use_bias=True, \n",
        "                activity_regularizer=UncorrelatedFeaturesConstraint(encoding_dim, weightage=1.)) \n",
        "decoder = Dense(input_dim, activation=\"linear\", use_bias = True)\n",
        "\n",
        "autoencoder = Sequential()\n",
        "autoencoder.add(encoder)\n",
        "autoencoder.add(decoder)\n",
        "\n",
        "autoencoder.compile(loss='mean_squared_error', optimizer='sgd')\n",
        "autoencoder.summary()\n",
        "\n",
        "start_time = time.time() \n",
        "autoencoder.fit(X_train_y0_scaled, X_train_y0_scaled,\n",
        "                epochs=epochs,\n",
        "                batch_size=batch_size,\n",
        "                validation_data = (X_valid_y0_scaled, X_valid_y0_scaled),\n",
        "                shuffle=True,\n",
        "                verbose=1)\n",
        "end_time = time.time()\n",
        "print(f\"Training & Validation Time (seconds): {end_time - start_time}\")"
      ],
      "execution_count": null,
      "outputs": []
    },
    {
      "cell_type": "code",
      "metadata": {
        "id": "VctjmoALSXqE",
        "outputId": "32b47e63-72c8-475a-f1b3-92d83b1b71d0",
        "colab": {
          "base_uri": "https://localhost:8080/"
        }
      },
      "source": [
        "\"\"\" validation predictions for threshold selection \"\"\"\n",
        "x_valid_pred = autoencoder.predict(X_valid_scaled)\n",
        "mse = np.mean(np.power(X_valid_scaled - x_valid_pred, 2), axis=1)\n",
        "error_df = pd.DataFrame({'Reconstruction_error': mse, 'True_class': y_valid})\n",
        "\n",
        "print('Validation reconstrunction error\\n', sklearn.metrics.mean_squared_error(X_valid_scaled, x_valid_pred))"
      ],
      "execution_count": null,
      "outputs": [
        {
          "output_type": "stream",
          "text": [
            "/usr/local/lib/python3.6/dist-packages/tensorflow/python/data/ops/dataset_ops.py:3350: UserWarning: Even though the tf.config.experimental_run_functions_eagerly option is set, this option does not apply to tf.data functions. tf.data functions are still traced and executed as graphs.\n",
            "  \"Even though the tf.config.experimental_run_functions_eagerly \"\n"
          ],
          "name": "stderr"
        },
        {
          "output_type": "stream",
          "text": [
            "Validation reconstrunction error\n",
            " 0.012418306269190646\n"
          ],
          "name": "stdout"
        }
      ]
    },
    {
      "cell_type": "code",
      "metadata": {
        "id": "2OJ17O8xSjlk",
        "outputId": "82a7fa48-240c-4c0c-ffda-67fe3910304e",
        "colab": {
          "base_uri": "https://localhost:8080/"
        }
      },
      "source": [
        "\"\"\" testing reconstruction error \"\"\"\n",
        "x_test_pred = autoencoder.predict(X_test_scaled)\n",
        "print('Test reconstrunction error\\n', sklearn.metrics.mean_squared_error(X_test_scaled, x_test_pred))"
      ],
      "execution_count": null,
      "outputs": [
        {
          "output_type": "stream",
          "text": [
            "/usr/local/lib/python3.6/dist-packages/tensorflow/python/data/ops/dataset_ops.py:3350: UserWarning: Even though the tf.config.experimental_run_functions_eagerly option is set, this option does not apply to tf.data functions. tf.data functions are still traced and executed as graphs.\n",
            "  \"Even though the tf.config.experimental_run_functions_eagerly \"\n"
          ],
          "name": "stderr"
        },
        {
          "output_type": "stream",
          "text": [
            "Test reconstrunction error\n",
            " 0.01701600626067905\n"
          ],
          "name": "stdout"
        }
      ]
    },
    {
      "cell_type": "code",
      "metadata": {
        "id": "NU_BSk30Sl05"
      },
      "source": [
        "\"\"\" For unit norm constraint, built-in Keras \"\"\"\n",
        "\n",
        "\"\"\" Ranjan, C. (2019, December 22). \n",
        "    Build the right Autoencoder - Tune and Optimize using PCA principles. Part II. \n",
        "    Retrieved November 09, 2020. \n",
        "\"\"\"\n",
        "encoder = Dense(encoding_dim, activation=\"linear\", input_shape=(input_dim,), use_bias = True, kernel_constraint=UnitNorm(axis=0)) \n",
        "decoder = Dense(input_dim, activation=\"linear\", use_bias = True, kernel_constraint=UnitNorm(axis=1))\n",
        "autoencoder = Sequential()\n",
        "autoencoder.add(encoder)\n",
        "autoencoder.add(decoder)\n",
        "autoencoder.compile(loss='mean_squared_error', optimizer='sgd')\n",
        "autoencoder.summary()\n",
        "\n",
        "start_time = time.time() \n",
        "autoencoder.fit(X_train_y0_scaled, X_train_y0_scaled,\n",
        "                epochs=epochs,\n",
        "                batch_size=batch_size,\n",
        "                validation_data = (X_valid_y0_scaled, X_valid_y0_scaled),\n",
        "                shuffle=True,\n",
        "                verbose=1)\n",
        "end_time = time.time()\n",
        "print(f\"Training & Validation Time (seconds): {end_time - start_time}\")"
      ],
      "execution_count": null,
      "outputs": []
    },
    {
      "cell_type": "code",
      "metadata": {
        "id": "Ihac9wbtfKDd",
        "outputId": "a78592d7-b348-40a9-cd00-4cdfad4f1677",
        "colab": {
          "base_uri": "https://localhost:8080/"
        }
      },
      "source": [
        "\"\"\" enforce unit norm constraint \n",
        "    Weights are not exactly 0 because it's not \n",
        "    a hard constraint \n",
        "\"\"\"\n",
        "w_encoder = np.round(autoencoder.layers[0].get_weights()[0], 2).T \n",
        "w_decoder = np.round(autoencoder.layers[1].get_weights()[0], 2)  \n",
        "print('Encoder weights norm, \\n', np.round(np.sum(w_encoder ** 2, axis = 1),3))\n",
        "print('Decoder weights norm, \\n', np.round(np.sum(w_decoder ** 2, axis = 1),3))"
      ],
      "execution_count": null,
      "outputs": [
        {
          "output_type": "stream",
          "text": [
            "Encoder weights norm, \n",
            " [0.993 1.003]\n",
            "Decoder weights norm, \n",
            " [1.011 0.997]\n"
          ],
          "name": "stdout"
        }
      ]
    },
    {
      "cell_type": "markdown",
      "metadata": {
        "id": "iKwuMzHtokaT"
      },
      "source": [
        "## Variations "
      ]
    },
    {
      "cell_type": "code",
      "metadata": {
        "id": "E7hO8icWfkSs"
      },
      "source": [
        "\"\"\" unit norm (encoder) & orthogonality \"\"\"\n",
        "encoder = Dense(encoding_dim, activation=\"linear\", input_shape=(input_dim,), use_bias = True, \n",
        "                kernel_regularizer=WeightsOrthogonalityConstraint(encoding_dim, weightage=1., axis=0), \n",
        "                kernel_constraint=UnitNorm(axis=0)) \n",
        "decoder = DenseTied(input_dim, activation=\"linear\", tied_to=encoder, use_bias = False)\n",
        "\n",
        "autoencoder = Sequential()\n",
        "autoencoder.add(encoder)\n",
        "autoencoder.add(decoder)\n",
        "\n",
        "autoencoder.compile(loss='mean_squared_error', optimizer='sgd')\n",
        "autoencoder.summary()\n",
        "\n",
        "autoencoder.fit(X_train_y0_scaled, X_train_y0_scaled,\n",
        "                epochs=epochs,\n",
        "                batch_size=batch_size,\n",
        "                validation_data = (X_valid_y0_scaled, X_valid_y0_scaled),\n",
        "                shuffle=True,\n",
        "                verbose=1)"
      ],
      "execution_count": null,
      "outputs": []
    },
    {
      "cell_type": "code",
      "metadata": {
        "id": "Y-Yu3RF-30HU",
        "outputId": "c516e281-661a-4365-e93f-bfafdbca99fe",
        "colab": {
          "base_uri": "https://localhost:8080/"
        }
      },
      "source": [
        "\"\"\" validation predictions for threshold selection \"\"\"\n",
        "x_valid_pred = autoencoder.predict(X_valid_scaled)\n",
        "mse = np.mean(np.power(X_valid_scaled - x_valid_pred, 2), axis=1)\n",
        "error_df = pd.DataFrame({'Reconstruction_error': mse, 'True_class': y_valid})\n",
        "\n",
        "print('Validation reconstrunction error\\n', sklearn.metrics.mean_squared_error(X_valid_scaled, x_valid_pred))"
      ],
      "execution_count": null,
      "outputs": [
        {
          "output_type": "stream",
          "text": [
            "/usr/local/lib/python3.6/dist-packages/tensorflow/python/data/ops/dataset_ops.py:3350: UserWarning: Even though the tf.config.experimental_run_functions_eagerly option is set, this option does not apply to tf.data functions. tf.data functions are still traced and executed as graphs.\n",
            "  \"Even though the tf.config.experimental_run_functions_eagerly \"\n"
          ],
          "name": "stderr"
        },
        {
          "output_type": "stream",
          "text": [
            "Validation reconstrunction error\n",
            " 0.15397720273036436\n"
          ],
          "name": "stdout"
        }
      ]
    },
    {
      "cell_type": "code",
      "metadata": {
        "id": "L6UsFfuW4Tpx",
        "outputId": "925e6a14-6986-4f46-e597-9c7a259023fe",
        "colab": {
          "base_uri": "https://localhost:8080/"
        }
      },
      "source": [
        "\"\"\" testing reconstruction error \"\"\"\n",
        "x_test_pred = autoencoder.predict(X_test_scaled)\n",
        "print('Test reconstrunction error\\n', sklearn.metrics.mean_squared_error(X_test_scaled, x_test_pred))"
      ],
      "execution_count": null,
      "outputs": [
        {
          "output_type": "stream",
          "text": [
            "/usr/local/lib/python3.6/dist-packages/tensorflow/python/data/ops/dataset_ops.py:3350: UserWarning: Even though the tf.config.experimental_run_functions_eagerly option is set, this option does not apply to tf.data functions. tf.data functions are still traced and executed as graphs.\n",
            "  \"Even though the tf.config.experimental_run_functions_eagerly \"\n"
          ],
          "name": "stderr"
        },
        {
          "output_type": "stream",
          "text": [
            "Test reconstrunction error\n",
            " 0.14686625032582246\n"
          ],
          "name": "stdout"
        }
      ]
    },
    {
      "cell_type": "code",
      "metadata": {
        "id": "GwxkH-5a4fCM",
        "outputId": "d2a19fa6-94f5-4425-c28f-8d98fc21c0b2",
        "colab": {
          "base_uri": "https://localhost:8080/"
        }
      },
      "source": [
        "\"\"\" unit norm (encoder, decoder) & orthogonality & uncorrelated features \"\"\"\n",
        "encoder = Dense(encoding_dim, activation=\"linear\", input_shape=(input_dim,), use_bias = True, \n",
        "                kernel_regularizer=WeightsOrthogonalityConstraint(encoding_dim, weightage=1., axis=0), \n",
        "                kernel_constraint=UnitNorm(axis=0),\n",
        "                activity_regularizer=UncorrelatedFeaturesConstraint(encoding_dim, weightage=1.)) \n",
        "decoder = DenseTied(input_dim, activation=\"linear\", tied_to=encoder, use_bias = False, kernel_constraint=UnitNorm(axis=1))\n",
        "\n",
        "autoencoder = Sequential()\n",
        "autoencoder.add(encoder)\n",
        "autoencoder.add(decoder)\n",
        "\n",
        "autoencoder.compile(loss='mean_squared_error', optimizer='sgd')\n",
        "autoencoder.summary()\n",
        "\n",
        "start_time = time.time() \n",
        "autoencoder_history = autoencoder.fit(X_train_y0_scaled, X_train_y0_scaled,\n",
        "                epochs=epochs,\n",
        "                batch_size=batch_size,\n",
        "                validation_data = (X_valid_y0_scaled, X_valid_y0_scaled),\n",
        "                shuffle=True,\n",
        "                verbose=0)\n",
        "end_time = time.time()\n",
        "print(f\"Training & Validation Time (seconds): {end_time - start_time}\")"
      ],
      "execution_count": null,
      "outputs": [
        {
          "output_type": "stream",
          "text": [
            "Model: \"sequential\"\n",
            "_________________________________________________________________\n",
            "Layer (type)                 Output Shape              Param #   \n",
            "=================================================================\n",
            "dense (Dense)                (None, 2)                 130       \n",
            "_________________________________________________________________\n",
            "dense_tied (DenseTied)       (None, 64)                258       \n",
            "=================================================================\n",
            "Total params: 258\n",
            "Trainable params: 130\n",
            "Non-trainable params: 128\n",
            "_________________________________________________________________\n"
          ],
          "name": "stdout"
        },
        {
          "output_type": "stream",
          "text": [
            "/usr/local/lib/python3.6/dist-packages/tensorflow/python/data/ops/dataset_ops.py:3350: UserWarning: Even though the tf.config.experimental_run_functions_eagerly option is set, this option does not apply to tf.data functions. tf.data functions are still traced and executed as graphs.\n",
            "  \"Even though the tf.config.experimental_run_functions_eagerly \"\n"
          ],
          "name": "stderr"
        },
        {
          "output_type": "stream",
          "text": [
            "Training & Validation Time (seconds): 3436.9204223155975\n"
          ],
          "name": "stdout"
        }
      ]
    },
    {
      "cell_type": "code",
      "metadata": {
        "id": "vVtR_SLtV0sW",
        "outputId": "32a887bd-ad9c-44fd-9070-d8fd1795e862",
        "colab": {
          "base_uri": "https://localhost:8080/"
        }
      },
      "source": [
        "\"\"\" validation predictions for threshold selection \"\"\"\n",
        "x_valid_pred = autoencoder.predict(X_valid_scaled)\n",
        "mse = np.mean(np.power(X_valid_scaled - x_valid_pred, 2), axis=1)\n",
        "error_df = pd.DataFrame({'Reconstruction_error': mse, 'True_class': y_valid})\n",
        "\n",
        "print('Validation reconstrunction error\\n', sklearn.metrics.mean_squared_error(X_valid_scaled, x_valid_pred))"
      ],
      "execution_count": null,
      "outputs": [
        {
          "output_type": "stream",
          "text": [
            "/usr/local/lib/python3.6/dist-packages/tensorflow/python/data/ops/dataset_ops.py:3350: UserWarning: Even though the tf.config.experimental_run_functions_eagerly option is set, this option does not apply to tf.data functions. tf.data functions are still traced and executed as graphs.\n",
            "  \"Even though the tf.config.experimental_run_functions_eagerly \"\n"
          ],
          "name": "stderr"
        },
        {
          "output_type": "stream",
          "text": [
            "Validation reconstrunction error\n",
            " 0.15402234884432664\n"
          ],
          "name": "stdout"
        }
      ]
    },
    {
      "cell_type": "code",
      "metadata": {
        "id": "fLfhUAQMV5wK",
        "outputId": "6734580a-068c-47ce-e655-28d1316846f4",
        "colab": {
          "base_uri": "https://localhost:8080/"
        }
      },
      "source": [
        "\"\"\" testing reconstruction error \"\"\"\n",
        "x_test_pred = autoencoder.predict(X_test_scaled)\n",
        "print('Test reconstrunction error\\n', sklearn.metrics.mean_squared_error(X_test_scaled, x_test_pred))"
      ],
      "execution_count": null,
      "outputs": [
        {
          "output_type": "stream",
          "text": [
            "/usr/local/lib/python3.6/dist-packages/tensorflow/python/data/ops/dataset_ops.py:3350: UserWarning: Even though the tf.config.experimental_run_functions_eagerly option is set, this option does not apply to tf.data functions. tf.data functions are still traced and executed as graphs.\n",
            "  \"Even though the tf.config.experimental_run_functions_eagerly \"\n"
          ],
          "name": "stderr"
        },
        {
          "output_type": "stream",
          "text": [
            "Test reconstrunction error\n",
            " 0.14659485453141297\n"
          ],
          "name": "stdout"
        }
      ]
    },
    {
      "cell_type": "code",
      "metadata": {
        "id": "Jz81iW06WP8g",
        "outputId": "1f95d06f-d060-4677-81a2-c2b16850fc4f",
        "colab": {
          "base_uri": "https://localhost:8080/",
          "height": 295
        }
      },
      "source": [
        "\"\"\" not a good combination, try another \"\"\"\n",
        "plt.plot(autoencoder_history.history['loss'], linewidth=2, label='Train')\n",
        "plt.plot(autoencoder_history.history['val_loss'], linewidth=2, label='Valid')\n",
        "plt.legend(loc='upper right')\n",
        "plt.title('Model loss')\n",
        "plt.ylabel('Loss')\n",
        "plt.xlabel('Epoch')\n",
        "plt.show()"
      ],
      "execution_count": null,
      "outputs": [
        {
          "output_type": "display_data",
          "data": {
            "image/png": "[encoded data removed]",
            "text/plain": [
              "<Figure size 432x288 with 1 Axes>"
            ]
          },
          "metadata": {
            "tags": [],
            "needs_background": "light"
          }
        }
      ]
    },
    {
      "cell_type": "code",
      "metadata": {
        "id": "SzvXl2HsWUDs",
        "outputId": "6c55a2ce-2203-4d61-df58-a992f1bcf09d",
        "colab": {
          "base_uri": "https://localhost:8080/"
        }
      },
      "source": [
        "\"\"\" orthogonality on encoding layer \"\"\"\n",
        "encoder = Dense(encoding_dim, activation=\"linear\", input_shape=(input_dim,), use_bias = True, \n",
        "                kernel_regularizer=WeightsOrthogonalityConstraint(encoding_dim, weightage=1., axis=0)\n",
        "                ) \n",
        "decoder = DenseTied(input_dim, activation=\"linear\", tied_to=encoder, use_bias = False)\n",
        "\n",
        "autoencoder = Sequential()\n",
        "autoencoder.add(encoder)\n",
        "autoencoder.add(decoder)\n",
        "\n",
        "autoencoder.compile(loss='mean_squared_error', optimizer='sgd')\n",
        "autoencoder.summary()\n",
        "\n",
        "start_time = time.time() \n",
        "autoencoder_history = autoencoder.fit(X_train_y0_scaled, X_train_y0_scaled,\n",
        "                epochs=epochs,\n",
        "                batch_size=batch_size,\n",
        "                validation_data = (X_valid_y0_scaled, X_valid_y0_scaled),\n",
        "                shuffle=True,\n",
        "                verbose=0)\n",
        "end_time = time.time()\n",
        "print(f\"Training & Validation Time (seconds): {end_time - start_time}\")"
      ],
      "execution_count": null,
      "outputs": [
        {
          "output_type": "stream",
          "text": [
            "Model: \"sequential_1\"\n",
            "_________________________________________________________________\n",
            "Layer (type)                 Output Shape              Param #   \n",
            "=================================================================\n",
            "dense_1 (Dense)              (None, 2)                 130       \n",
            "_________________________________________________________________\n",
            "dense_tied_1 (DenseTied)     (None, 64)                258       \n",
            "=================================================================\n",
            "Total params: 258\n",
            "Trainable params: 130\n",
            "Non-trainable params: 128\n",
            "_________________________________________________________________\n"
          ],
          "name": "stdout"
        },
        {
          "output_type": "stream",
          "text": [
            "/usr/local/lib/python3.6/dist-packages/tensorflow/python/data/ops/dataset_ops.py:3350: UserWarning: Even though the tf.config.experimental_run_functions_eagerly option is set, this option does not apply to tf.data functions. tf.data functions are still traced and executed as graphs.\n",
            "  \"Even though the tf.config.experimental_run_functions_eagerly \"\n"
          ],
          "name": "stderr"
        },
        {
          "output_type": "stream",
          "text": [
            "Training & Validation Time (seconds): 2172.599510908127\n"
          ],
          "name": "stdout"
        }
      ]
    },
    {
      "cell_type": "code",
      "metadata": {
        "id": "pnQLZy5dfICQ",
        "outputId": "575f22ef-7e4a-4fab-a9d8-2e65177d7501",
        "colab": {
          "base_uri": "https://localhost:8080/"
        }
      },
      "source": [
        "\"\"\" validation predictions for threshold selection \"\"\"\n",
        "x_valid_pred = autoencoder.predict(X_valid_scaled)\n",
        "mse = np.mean(np.power(X_valid_scaled - x_valid_pred, 2), axis=1)\n",
        "error_df = pd.DataFrame({'Reconstruction_error': mse, 'True_class': y_valid})\n",
        "\n",
        "print('Validation reconstrunction error\\n', sklearn.metrics.mean_squared_error(X_valid_scaled, x_valid_pred))"
      ],
      "execution_count": null,
      "outputs": [
        {
          "output_type": "stream",
          "text": [
            "/usr/local/lib/python3.6/dist-packages/tensorflow/python/data/ops/dataset_ops.py:3350: UserWarning: Even though the tf.config.experimental_run_functions_eagerly option is set, this option does not apply to tf.data functions. tf.data functions are still traced and executed as graphs.\n",
            "  \"Even though the tf.config.experimental_run_functions_eagerly \"\n"
          ],
          "name": "stderr"
        },
        {
          "output_type": "stream",
          "text": [
            "Validation reconstrunction error\n",
            " 0.15037281631526528\n"
          ],
          "name": "stdout"
        }
      ]
    },
    {
      "cell_type": "code",
      "metadata": {
        "id": "9pf__LvffMS8",
        "outputId": "6c680f8f-1746-447a-be41-51429b2b6fc2",
        "colab": {
          "base_uri": "https://localhost:8080/"
        }
      },
      "source": [
        "\"\"\" testing reconstruction error \"\"\"\n",
        "x_test_pred = autoencoder.predict(X_test_scaled)\n",
        "print('Test reconstrunction error\\n', sklearn.metrics.mean_squared_error(X_test_scaled, x_test_pred))"
      ],
      "execution_count": null,
      "outputs": [
        {
          "output_type": "stream",
          "text": [
            "/usr/local/lib/python3.6/dist-packages/tensorflow/python/data/ops/dataset_ops.py:3350: UserWarning: Even though the tf.config.experimental_run_functions_eagerly option is set, this option does not apply to tf.data functions. tf.data functions are still traced and executed as graphs.\n",
            "  \"Even though the tf.config.experimental_run_functions_eagerly \"\n"
          ],
          "name": "stderr"
        },
        {
          "output_type": "stream",
          "text": [
            "Test reconstrunction error\n",
            " 0.1429053777386471\n"
          ],
          "name": "stdout"
        }
      ]
    },
    {
      "cell_type": "code",
      "metadata": {
        "id": "n4M-3BTzfN1E",
        "outputId": "3db05616-c9d5-4892-d730-1ef1e5f3fe3b",
        "colab": {
          "base_uri": "https://localhost:8080/",
          "height": 295
        }
      },
      "source": [
        "\"\"\" not a good combination, try another \"\"\"\n",
        "plt.plot(autoencoder_history.history['loss'], linewidth=2, label='Train')\n",
        "plt.plot(autoencoder_history.history['val_loss'], linewidth=2, label='Valid')\n",
        "plt.legend(loc='upper right')\n",
        "plt.title('Model loss')\n",
        "plt.ylabel('Loss')\n",
        "plt.xlabel('Epoch')\n",
        "plt.show()"
      ],
      "execution_count": null,
      "outputs": [
        {
          "output_type": "display_data",
          "data": {
            "image/png": "[encoded data removed]",
            "text/plain": [
              "<Figure size 432x288 with 1 Axes>"
            ]
          },
          "metadata": {
            "tags": [],
            "needs_background": "light"
          }
        }
      ]
    },
    {
      "cell_type": "code",
      "metadata": {
        "id": "G4bJNmKAfXs2",
        "outputId": "a2878d46-7adc-40f9-a6e7-39bc2e72cbf6",
        "colab": {
          "base_uri": "https://localhost:8080/"
        }
      },
      "source": [
        "\"\"\" uncorrelated features & orthogonality \"\"\"\n",
        "encoder = Dense(encoding_dim, activation=\"linear\", input_shape=(input_dim,), use_bias = True, \n",
        "                kernel_regularizer=WeightsOrthogonalityConstraint(encoding_dim, weightage=1., axis=0),\n",
        "                activity_regularizer=UncorrelatedFeaturesConstraint(encoding_dim, weightage=1.)\n",
        "                ) \n",
        "decoder = DenseTied(input_dim, activation=\"linear\", tied_to=encoder, use_bias = False)\n",
        "\n",
        "autoencoder = Sequential()\n",
        "autoencoder.add(encoder)\n",
        "autoencoder.add(decoder)\n",
        "\n",
        "autoencoder.compile(loss='mean_squared_error', optimizer='sgd')\n",
        "autoencoder.summary()\n",
        "\n",
        "start_time = time.time() \n",
        "autoencoder_history = autoencoder.fit(X_train_y0_scaled, X_train_y0_scaled,\n",
        "                epochs=epochs,\n",
        "                batch_size=batch_size,\n",
        "                validation_data = (X_valid_y0_scaled, X_valid_y0_scaled),\n",
        "                shuffle=True,\n",
        "                verbose=0)\n",
        "end_time = time.time()\n",
        "print(f\"Training & Validation Time (seconds): {end_time - start_time}\")"
      ],
      "execution_count": null,
      "outputs": [
        {
          "output_type": "stream",
          "text": [
            "Model: \"sequential_2\"\n",
            "_________________________________________________________________\n",
            "Layer (type)                 Output Shape              Param #   \n",
            "=================================================================\n",
            "dense_2 (Dense)              (None, 2)                 130       \n",
            "_________________________________________________________________\n",
            "dense_tied_2 (DenseTied)     (None, 64)                258       \n",
            "=================================================================\n",
            "Total params: 258\n",
            "Trainable params: 130\n",
            "Non-trainable params: 128\n",
            "_________________________________________________________________\n"
          ],
          "name": "stdout"
        },
        {
          "output_type": "stream",
          "text": [
            "/usr/local/lib/python3.6/dist-packages/tensorflow/python/data/ops/dataset_ops.py:3350: UserWarning: Even though the tf.config.experimental_run_functions_eagerly option is set, this option does not apply to tf.data functions. tf.data functions are still traced and executed as graphs.\n",
            "  \"Even though the tf.config.experimental_run_functions_eagerly \"\n"
          ],
          "name": "stderr"
        },
        {
          "output_type": "stream",
          "text": [
            "Training & Validation Time (seconds): 3385.332553625107\n"
          ],
          "name": "stdout"
        }
      ]
    },
    {
      "cell_type": "code",
      "metadata": {
        "id": "9WDmMc0_s7jr",
        "outputId": "2e5e44e3-0a7d-4215-b1a6-277ce787a874",
        "colab": {
          "base_uri": "https://localhost:8080/"
        }
      },
      "source": [
        "\"\"\" validation predictions for threshold selection \"\"\"\n",
        "x_valid_pred = autoencoder.predict(X_valid_scaled)\n",
        "mse = np.mean(np.power(X_valid_scaled - x_valid_pred, 2), axis=1)\n",
        "error_df = pd.DataFrame({'Reconstruction_error': mse, 'True_class': y_valid})\n",
        "\n",
        "print('Validation reconstrunction error\\n', sklearn.metrics.mean_squared_error(X_valid_scaled, x_valid_pred))"
      ],
      "execution_count": null,
      "outputs": [
        {
          "output_type": "stream",
          "text": [
            "/usr/local/lib/python3.6/dist-packages/tensorflow/python/data/ops/dataset_ops.py:3350: UserWarning: Even though the tf.config.experimental_run_functions_eagerly option is set, this option does not apply to tf.data functions. tf.data functions are still traced and executed as graphs.\n",
            "  \"Even though the tf.config.experimental_run_functions_eagerly \"\n"
          ],
          "name": "stderr"
        },
        {
          "output_type": "stream",
          "text": [
            "Validation reconstrunction error\n",
            " 0.1544054061662229\n"
          ],
          "name": "stdout"
        }
      ]
    },
    {
      "cell_type": "code",
      "metadata": {
        "id": "70kgvNNftAaG",
        "outputId": "86552fba-5e09-4960-9fb2-44d7159f25ad",
        "colab": {
          "base_uri": "https://localhost:8080/"
        }
      },
      "source": [
        "\"\"\" testing reconstruction error \"\"\"\n",
        "x_test_pred = autoencoder.predict(X_test_scaled)\n",
        "print('Test reconstrunction error\\n', sklearn.metrics.mean_squared_error(X_test_scaled, x_test_pred))"
      ],
      "execution_count": null,
      "outputs": [
        {
          "output_type": "stream",
          "text": [
            "/usr/local/lib/python3.6/dist-packages/tensorflow/python/data/ops/dataset_ops.py:3350: UserWarning: Even though the tf.config.experimental_run_functions_eagerly option is set, this option does not apply to tf.data functions. tf.data functions are still traced and executed as graphs.\n",
            "  \"Even though the tf.config.experimental_run_functions_eagerly \"\n"
          ],
          "name": "stderr"
        },
        {
          "output_type": "stream",
          "text": [
            "Test reconstrunction error\n",
            " 0.1470316963147079\n"
          ],
          "name": "stdout"
        }
      ]
    },
    {
      "cell_type": "code",
      "metadata": {
        "id": "kiYlLP7rtBuJ",
        "outputId": "5d4c2703-a4f0-431b-cc3b-38b7d0feb10b",
        "colab": {
          "base_uri": "https://localhost:8080/",
          "height": 295
        }
      },
      "source": [
        "\"\"\" not a good combination, try another \"\"\"\n",
        "plt.plot(autoencoder_history.history['loss'], linewidth=2, label='Train')\n",
        "plt.plot(autoencoder_history.history['val_loss'], linewidth=2, label='Valid')\n",
        "plt.legend(loc='upper right')\n",
        "plt.title('Model loss')\n",
        "plt.ylabel('Loss')\n",
        "plt.xlabel('Epoch')\n",
        "plt.show()"
      ],
      "execution_count": null,
      "outputs": [
        {
          "output_type": "display_data",
          "data": {
            "image/png": "[encoded data removed]",
            "text/plain": [
              "<Figure size 432x288 with 1 Axes>"
            ]
          },
          "metadata": {
            "tags": [],
            "needs_background": "light"
          }
        }
      ]
    },
    {
      "cell_type": "code",
      "metadata": {
        "id": "eYjrNeoGtEn-",
        "outputId": "d12263f6-8265-4508-ba13-e4cc666c6c9c",
        "colab": {
          "base_uri": "https://localhost:8080/"
        }
      },
      "source": [
        "\"\"\" instead of Dense Tied, try Dense \"\"\"\n",
        "\"\"\" unit norm (encoder) & orthogonality \"\"\"\n",
        "encoder = Dense(encoding_dim, activation=\"linear\", input_shape=(input_dim,), use_bias = True, \n",
        "                kernel_regularizer=WeightsOrthogonalityConstraint(encoding_dim, weightage=1., axis=0), \n",
        "                kernel_constraint=UnitNorm(axis=0)) \n",
        "decoder = Dense(input_dim, activation=\"linear\", use_bias = False)\n",
        "\n",
        "autoencoder = Sequential()\n",
        "autoencoder.add(encoder)\n",
        "autoencoder.add(decoder)\n",
        "\n",
        "autoencoder.compile(loss='mean_squared_error', optimizer='sgd')\n",
        "autoencoder.summary()\n",
        "\n",
        "autoencoder.fit(X_train_y0_scaled, X_train_y0_scaled,\n",
        "                epochs=epochs,\n",
        "                batch_size=batch_size,\n",
        "                validation_data = (X_valid_y0_scaled, X_valid_y0_scaled),\n",
        "                shuffle=True,\n",
        "                verbose=0)"
      ],
      "execution_count": null,
      "outputs": [
        {
          "output_type": "stream",
          "text": [
            "Model: \"sequential_5\"\n",
            "_________________________________________________________________\n",
            "Layer (type)                 Output Shape              Param #   \n",
            "=================================================================\n",
            "dense_8 (Dense)              (None, 2)                 130       \n",
            "_________________________________________________________________\n",
            "dense_9 (Dense)              (None, 64)                128       \n",
            "=================================================================\n",
            "Total params: 258\n",
            "Trainable params: 258\n",
            "Non-trainable params: 0\n",
            "_________________________________________________________________\n"
          ],
          "name": "stdout"
        },
        {
          "output_type": "stream",
          "text": [
            "/usr/local/lib/python3.6/dist-packages/tensorflow/python/data/ops/dataset_ops.py:3350: UserWarning: Even though the tf.config.experimental_run_functions_eagerly option is set, this option does not apply to tf.data functions. tf.data functions are still traced and executed as graphs.\n",
            "  \"Even though the tf.config.experimental_run_functions_eagerly \"\n"
          ],
          "name": "stderr"
        },
        {
          "output_type": "execute_result",
          "data": {
            "text/plain": [
              "<tensorflow.python.keras.callbacks.History at 0x7fdccc56d4e0>"
            ]
          },
          "metadata": {
            "tags": []
          },
          "execution_count": 34
        }
      ]
    },
    {
      "cell_type": "code",
      "metadata": {
        "id": "BABU6WDz2qfm",
        "outputId": "92e6a7bd-2745-4359-9a6a-b0b82f544503",
        "colab": {
          "base_uri": "https://localhost:8080/"
        }
      },
      "source": [
        "\"\"\" validation predictions for threshold selection \"\"\"\n",
        "x_valid_pred = autoencoder.predict(X_valid_scaled)\n",
        "mse = np.mean(np.power(X_valid_scaled - x_valid_pred, 2), axis=1)\n",
        "error_df = pd.DataFrame({'Reconstruction_error': mse, 'True_class': y_valid})\n",
        "\n",
        "print('Validation reconstrunction error\\n', sklearn.metrics.mean_squared_error(X_valid_scaled, x_valid_pred))"
      ],
      "execution_count": null,
      "outputs": [
        {
          "output_type": "stream",
          "text": [
            "/usr/local/lib/python3.6/dist-packages/tensorflow/python/data/ops/dataset_ops.py:3350: UserWarning: Even though the tf.config.experimental_run_functions_eagerly option is set, this option does not apply to tf.data functions. tf.data functions are still traced and executed as graphs.\n",
            "  \"Even though the tf.config.experimental_run_functions_eagerly \"\n"
          ],
          "name": "stderr"
        },
        {
          "output_type": "stream",
          "text": [
            "Validation reconstrunction error\n",
            " 0.013186410647921667\n"
          ],
          "name": "stdout"
        }
      ]
    },
    {
      "cell_type": "code",
      "metadata": {
        "id": "3GT0Akjn2wgY",
        "outputId": "9dba8238-0194-43f2-a547-b2e3da423087",
        "colab": {
          "base_uri": "https://localhost:8080/"
        }
      },
      "source": [
        "\"\"\" testing reconstruction error \"\"\"\n",
        "x_test_pred = autoencoder.predict(X_test_scaled)\n",
        "print('Test reconstrunction error\\n', sklearn.metrics.mean_squared_error(X_test_scaled, x_test_pred))"
      ],
      "execution_count": null,
      "outputs": [
        {
          "output_type": "stream",
          "text": [
            "/usr/local/lib/python3.6/dist-packages/tensorflow/python/data/ops/dataset_ops.py:3350: UserWarning: Even though the tf.config.experimental_run_functions_eagerly option is set, this option does not apply to tf.data functions. tf.data functions are still traced and executed as graphs.\n",
            "  \"Even though the tf.config.experimental_run_functions_eagerly \"\n"
          ],
          "name": "stderr"
        },
        {
          "output_type": "stream",
          "text": [
            "Test reconstrunction error\n",
            " 0.016639725467999345\n"
          ],
          "name": "stdout"
        }
      ]
    },
    {
      "cell_type": "code",
      "metadata": {
        "id": "aQU2A4U13PCL",
        "outputId": "9a170eb7-5e51-4c53-fb7f-568f1072859f",
        "colab": {
          "base_uri": "https://localhost:8080/"
        }
      },
      "source": [
        "\"\"\" unit norm & orthogonality with Dense decoder \"\"\"\n",
        "epochs = 50 # loss remains same afterwards \n",
        "\n",
        "encoder = Dense(encoding_dim, activation=\"linear\", input_shape=(input_dim,), use_bias = True, \n",
        "                kernel_regularizer=WeightsOrthogonalityConstraint(encoding_dim, weightage=1., axis=0), \n",
        "                kernel_constraint=UnitNorm(axis=0)) \n",
        "decoder = Dense(input_dim, activation=\"linear\", use_bias = True)\n",
        "\n",
        "autoencoder = Sequential()\n",
        "autoencoder.add(encoder)\n",
        "autoencoder.add(decoder)\n",
        "\n",
        "autoencoder.compile(loss='mean_squared_error', optimizer='sgd')\n",
        "autoencoder.summary()\n",
        "\n",
        "autoencoder_history = autoencoder.fit(X_train_y0_scaled, X_train_y0_scaled,\n",
        "                epochs=epochs,\n",
        "                batch_size=batch_size,\n",
        "                validation_data = (X_valid_y0_scaled, X_valid_y0_scaled),\n",
        "                shuffle=True,\n",
        "                verbose=0)"
      ],
      "execution_count": null,
      "outputs": [
        {
          "output_type": "stream",
          "text": [
            "Model: \"sequential_12\"\n",
            "_________________________________________________________________\n",
            "Layer (type)                 Output Shape              Param #   \n",
            "=================================================================\n",
            "dense_22 (Dense)             (None, 2)                 130       \n",
            "_________________________________________________________________\n",
            "dense_23 (Dense)             (None, 64)                192       \n",
            "=================================================================\n",
            "Total params: 322\n",
            "Trainable params: 322\n",
            "Non-trainable params: 0\n",
            "_________________________________________________________________\n"
          ],
          "name": "stdout"
        },
        {
          "output_type": "stream",
          "text": [
            "/usr/local/lib/python3.6/dist-packages/tensorflow/python/data/ops/dataset_ops.py:3350: UserWarning: Even though the tf.config.experimental_run_functions_eagerly option is set, this option does not apply to tf.data functions. tf.data functions are still traced and executed as graphs.\n",
            "  \"Even though the tf.config.experimental_run_functions_eagerly \"\n"
          ],
          "name": "stderr"
        }
      ]
    },
    {
      "cell_type": "code",
      "metadata": {
        "id": "ADWgBrQv_Lav",
        "outputId": "daf74a7e-c409-4408-df60-34f1d00cbb86",
        "colab": {
          "base_uri": "https://localhost:8080/"
        }
      },
      "source": [
        "\"\"\" validation predictions for threshold selection \"\"\"\n",
        "x_valid_pred = autoencoder.predict(X_valid_scaled)\n",
        "mse = np.mean(np.power(X_valid_scaled - x_valid_pred, 2), axis=1)\n",
        "error_df = pd.DataFrame({'Reconstruction_error': mse, 'True_class': y_valid})\n",
        "\n",
        "print('Validation reconstrunction error\\n', sklearn.metrics.mean_squared_error(X_valid_scaled, x_valid_pred))"
      ],
      "execution_count": null,
      "outputs": [
        {
          "output_type": "stream",
          "text": [
            "/usr/local/lib/python3.6/dist-packages/tensorflow/python/data/ops/dataset_ops.py:3350: UserWarning: Even though the tf.config.experimental_run_functions_eagerly option is set, this option does not apply to tf.data functions. tf.data functions are still traced and executed as graphs.\n",
            "  \"Even though the tf.config.experimental_run_functions_eagerly \"\n"
          ],
          "name": "stderr"
        },
        {
          "output_type": "stream",
          "text": [
            "Validation reconstrunction error\n",
            " 0.012138255026548793\n"
          ],
          "name": "stdout"
        }
      ]
    },
    {
      "cell_type": "code",
      "metadata": {
        "id": "HyYNswAz_QVF",
        "outputId": "3e9a4cc1-a0aa-4dff-d3fd-8927ca03e02d",
        "colab": {
          "base_uri": "https://localhost:8080/"
        }
      },
      "source": [
        "\"\"\" testing reconstruction error \"\"\"\n",
        "x_test_pred = autoencoder.predict(X_test_scaled)\n",
        "print('Test reconstrunction error\\n', sklearn.metrics.mean_squared_error(X_test_scaled, x_test_pred))"
      ],
      "execution_count": null,
      "outputs": [
        {
          "output_type": "stream",
          "text": [
            "/usr/local/lib/python3.6/dist-packages/tensorflow/python/data/ops/dataset_ops.py:3350: UserWarning: Even though the tf.config.experimental_run_functions_eagerly option is set, this option does not apply to tf.data functions. tf.data functions are still traced and executed as graphs.\n",
            "  \"Even though the tf.config.experimental_run_functions_eagerly \"\n"
          ],
          "name": "stderr"
        },
        {
          "output_type": "stream",
          "text": [
            "Test reconstrunction error\n",
            " 0.016858295888910083\n"
          ],
          "name": "stdout"
        }
      ]
    },
    {
      "cell_type": "code",
      "metadata": {
        "id": "8cyv_gsA_U5N",
        "outputId": "ddff81d0-8129-4a8b-befb-b14f8c453194",
        "colab": {
          "base_uri": "https://localhost:8080/",
          "height": 295
        }
      },
      "source": [
        "plt.plot(autoencoder_history.history['loss'], linewidth=2, label='Train')\n",
        "plt.plot(autoencoder_history.history['val_loss'], linewidth=2, label='Valid')\n",
        "plt.legend(loc='upper right')\n",
        "plt.title('Model loss')\n",
        "plt.ylabel('Loss')\n",
        "plt.xlabel('Epoch')\n",
        "plt.show()"
      ],
      "execution_count": null,
      "outputs": [
        {
          "output_type": "display_data",
          "data": {
            "image/png": "[encoded data removed]",
            "text/plain": [
              "<Figure size 432x288 with 1 Axes>"
            ]
          },
          "metadata": {
            "tags": [],
            "needs_background": "light"
          }
        }
      ]
    },
    {
      "cell_type": "code",
      "metadata": {
        "id": "Y46et64OUNcQ",
        "outputId": "9315b211-c6ab-4ef9-b0dd-bfa01d2c6127",
        "colab": {
          "base_uri": "https://localhost:8080/"
        }
      },
      "source": [
        "\"\"\" Plot reconstruction errors for positive and negative data points \"\"\"\n",
        "mse = np.mean(np.power(X_test_scaled - x_test_pred, 2), axis=1)\n",
        "\n",
        "error_df = pd.DataFrame({'Reconstruction_error': mse,\n",
        "                        'True_class': y_test})\n",
        "threshold = round(np.mean(error_df.Reconstruction_error),2)\n",
        "print(f\"Threshold selected is: {threshold}\")"
      ],
      "execution_count": null,
      "outputs": [
        {
          "output_type": "stream",
          "text": [
            "Threshold selected is: 0.02\n"
          ],
          "name": "stdout"
        }
      ]
    },
    {
      "cell_type": "code",
      "metadata": {
        "id": "pf9tVlnCT_2j",
        "outputId": "58d417cf-84d1-4d57-fe90-212a365d08e7",
        "colab": {
          "base_uri": "https://localhost:8080/",
          "height": 404
        }
      },
      "source": [
        "\"\"\" Plot ROC Curve \"\"\"\n",
        "\n",
        "LABELS = [\"Normal\",\"Abnormal\"]\n",
        "\n",
        "pred_y = [1 if e > threshold else 0 for e in error_df.Reconstruction_error.values]\n",
        "conf_matrix = confusion_matrix(error_df.True_class, pred_y)\n",
        "\n",
        "plt.figure(figsize=(6, 6))\n",
        "sns.heatmap(conf_matrix, xticklabels=LABELS, yticklabels=LABELS, annot=True, fmt=\"d\");\n",
        "plt.title(\"Confusion matrix\")\n",
        "plt.ylabel('True class')\n",
        "plt.xlabel('Predicted class')\n",
        "plt.show()"
      ],
      "execution_count": null,
      "outputs": [
        {
          "output_type": "display_data",
          "data": {
            "image/png": "[encoded data removed]",
            "text/plain": [
              "<Figure size 432x432 with 2 Axes>"
            ]
          },
          "metadata": {
            "tags": [],
            "needs_background": "light"
          }
        }
      ]
    },
    {
      "cell_type": "code",
      "metadata": {
        "id": "K1XPm9ORToFp",
        "outputId": "a8da159f-1610-4997-9870-b0b758672ca5",
        "colab": {
          "base_uri": "https://localhost:8080/",
          "height": 295
        }
      },
      "source": [
        "false_pos_rate, true_pos_rate, thresholds = roc_curve(error_df.True_class, error_df.Reconstruction_error)\n",
        "roc_auc = auc(false_pos_rate, true_pos_rate)\n",
        "\n",
        "plt.plot(false_pos_rate, true_pos_rate, linewidth=5, label='AUC = %0.3f'% roc_auc)\n",
        "plt.plot([0,1],[0,1], linewidth=5)\n",
        "\n",
        "plt.xlim([-0.01, 1])\n",
        "plt.ylim([0, 1.01])\n",
        "plt.legend(loc='lower right')\n",
        "plt.title('Receiver operating characteristic curve (ROC)')\n",
        "plt.ylabel('True Positive Rate')\n",
        "plt.xlabel('False Positive Rate')\n",
        "plt.show()"
      ],
      "execution_count": null,
      "outputs": [
        {
          "output_type": "display_data",
          "data": {
            "image/png": "[encoded data removed]",
            "text/plain": [
              "<Figure size 432x288 with 1 Axes>"
            ]
          },
          "metadata": {
            "tags": [],
            "needs_background": "light"
          }
        }
      ]
    },
    {
      "cell_type": "code",
      "metadata": {
        "id": "EQjCWRVA_ye_",
        "outputId": "0cae9eb0-ddde-4bc8-fdf7-8d9b662b8b90",
        "colab": {
          "base_uri": "https://localhost:8080/"
        }
      },
      "source": [
        "\"\"\" uncorrelated features & orthogonality \"\"\"\n",
        "encoder = Dense(encoding_dim, activation=\"linear\", input_shape=(input_dim,), use_bias = True, \n",
        "                kernel_regularizer=WeightsOrthogonalityConstraint(encoding_dim, weightage=1., axis=0),\n",
        "                activity_regularizer=UncorrelatedFeaturesConstraint(encoding_dim, weightage=1.)\n",
        "                ) \n",
        "decoder = Dense(input_dim, activation=\"linear\", use_bias = True)\n",
        "\n",
        "autoencoder = Sequential()\n",
        "autoencoder.add(encoder)\n",
        "autoencoder.add(decoder)\n",
        "\n",
        "autoencoder.compile(loss='mean_squared_error', optimizer='sgd')\n",
        "autoencoder.summary()\n",
        "\n",
        "start_time = time.time() \n",
        "autoencoder_history = autoencoder.fit(X_train_y0_scaled, X_train_y0_scaled,\n",
        "                epochs=epochs,\n",
        "                batch_size=batch_size,\n",
        "                validation_data = (X_valid_y0_scaled, X_valid_y0_scaled),\n",
        "                shuffle=True,\n",
        "                verbose=0)\n",
        "end_time = time.time()\n",
        "print(f\"Training & Validation Time (seconds): {end_time - start_time}\")"
      ],
      "execution_count": null,
      "outputs": [
        {
          "output_type": "stream",
          "text": [
            "Model: \"sequential_8\"\n",
            "_________________________________________________________________\n",
            "Layer (type)                 Output Shape              Param #   \n",
            "=================================================================\n",
            "dense_14 (Dense)             (None, 2)                 130       \n",
            "_________________________________________________________________\n",
            "dense_15 (Dense)             (None, 64)                192       \n",
            "=================================================================\n",
            "Total params: 322\n",
            "Trainable params: 322\n",
            "Non-trainable params: 0\n",
            "_________________________________________________________________\n"
          ],
          "name": "stdout"
        },
        {
          "output_type": "stream",
          "text": [
            "/usr/local/lib/python3.6/dist-packages/tensorflow/python/data/ops/dataset_ops.py:3350: UserWarning: Even though the tf.config.experimental_run_functions_eagerly option is set, this option does not apply to tf.data functions. tf.data functions are still traced and executed as graphs.\n",
            "  \"Even though the tf.config.experimental_run_functions_eagerly \"\n"
          ],
          "name": "stderr"
        },
        {
          "output_type": "stream",
          "text": [
            "Training & Validation Time (seconds): 1758.8751661777496\n"
          ],
          "name": "stdout"
        }
      ]
    },
    {
      "cell_type": "code",
      "metadata": {
        "id": "0Aas-QRoHGUv",
        "outputId": "5519024a-3408-4c76-ea90-90a0620fe668",
        "colab": {
          "base_uri": "https://localhost:8080/"
        }
      },
      "source": [
        "\"\"\" validation predictions for threshold selection \"\"\"\n",
        "x_valid_pred = autoencoder.predict(X_valid_scaled)\n",
        "mse = np.mean(np.power(X_valid_scaled - x_valid_pred, 2), axis=1)\n",
        "error_df = pd.DataFrame({'Reconstruction_error': mse, 'True_class': y_valid})\n",
        "\n",
        "print('Validation reconstrunction error\\n', sklearn.metrics.mean_squared_error(X_valid_scaled, x_valid_pred))"
      ],
      "execution_count": null,
      "outputs": [
        {
          "output_type": "stream",
          "text": [
            "/usr/local/lib/python3.6/dist-packages/tensorflow/python/data/ops/dataset_ops.py:3350: UserWarning: Even though the tf.config.experimental_run_functions_eagerly option is set, this option does not apply to tf.data functions. tf.data functions are still traced and executed as graphs.\n",
            "  \"Even though the tf.config.experimental_run_functions_eagerly \"\n"
          ],
          "name": "stderr"
        },
        {
          "output_type": "stream",
          "text": [
            "Validation reconstrunction error\n",
            " 0.012889027885537276\n"
          ],
          "name": "stdout"
        }
      ]
    },
    {
      "cell_type": "code",
      "metadata": {
        "id": "7qIdzfYrHKQ1",
        "outputId": "3c7ba25e-13fb-45bc-b727-7fd0dbc5bd9a",
        "colab": {
          "base_uri": "https://localhost:8080/"
        }
      },
      "source": [
        "\"\"\" testing reconstruction error \"\"\"\n",
        "x_test_pred = autoencoder.predict(X_test_scaled)\n",
        "print('Test reconstrunction error\\n', sklearn.metrics.mean_squared_error(X_test_scaled, x_test_pred))"
      ],
      "execution_count": null,
      "outputs": [
        {
          "output_type": "stream",
          "text": [
            "/usr/local/lib/python3.6/dist-packages/tensorflow/python/data/ops/dataset_ops.py:3350: UserWarning: Even though the tf.config.experimental_run_functions_eagerly option is set, this option does not apply to tf.data functions. tf.data functions are still traced and executed as graphs.\n",
            "  \"Even though the tf.config.experimental_run_functions_eagerly \"\n"
          ],
          "name": "stderr"
        },
        {
          "output_type": "stream",
          "text": [
            "Test reconstrunction error\n",
            " 0.0174387842871356\n"
          ],
          "name": "stdout"
        }
      ]
    },
    {
      "cell_type": "code",
      "metadata": {
        "id": "EiZoMM6hHP1y",
        "outputId": "4d9f3f97-a521-4fbe-92f5-4050fc0672a9",
        "colab": {
          "base_uri": "https://localhost:8080/",
          "height": 295
        }
      },
      "source": [
        "plt.plot(autoencoder_history.history['loss'], linewidth=2, label='Train')\n",
        "plt.plot(autoencoder_history.history['val_loss'], linewidth=2, label='Valid')\n",
        "plt.legend(loc='upper right')\n",
        "plt.title('Model loss')\n",
        "plt.ylabel('Loss')\n",
        "plt.xlabel('Epoch')\n",
        "plt.show()"
      ],
      "execution_count": null,
      "outputs": [
        {
          "output_type": "display_data",
          "data": {
            "image/png": "[encoded data removed]",
            "text/plain": [
              "<Figure size 432x288 with 1 Axes>"
            ]
          },
          "metadata": {
            "tags": [],
            "needs_background": "light"
          }
        }
      ]
    },
    {
      "cell_type": "code",
      "metadata": {
        "id": "WTNanRpHHaCt",
        "outputId": "2ad3b255-fd44-49f3-9c2e-57cae24733d2",
        "colab": {
          "base_uri": "https://localhost:8080/"
        }
      },
      "source": [
        "\"\"\" uncorrelated features & unit norm \"\"\"\n",
        "encoder = Dense(encoding_dim, activation=\"linear\", input_shape=(input_dim,), use_bias = True, \n",
        "                kernel_constraint=UnitNorm(axis=0),\n",
        "                activity_regularizer=UncorrelatedFeaturesConstraint(encoding_dim, weightage=1.)\n",
        "                ) \n",
        "decoder = Dense(input_dim, activation=\"linear\", use_bias = True)\n",
        "\n",
        "autoencoder = Sequential()\n",
        "autoencoder.add(encoder)\n",
        "autoencoder.add(decoder)\n",
        "\n",
        "autoencoder.compile(loss='mean_squared_error', optimizer='sgd')\n",
        "autoencoder.summary()\n",
        "\n",
        "start_time = time.time() \n",
        "autoencoder_history = autoencoder.fit(X_train_y0_scaled, X_train_y0_scaled,\n",
        "                epochs=epochs,\n",
        "                batch_size=batch_size,\n",
        "                validation_data = (X_valid_y0_scaled, X_valid_y0_scaled),\n",
        "                shuffle=True,\n",
        "                verbose=0)\n",
        "end_time = time.time()\n",
        "print(f\"Training & Validation Time (seconds): {end_time - start_time}\")"
      ],
      "execution_count": null,
      "outputs": [
        {
          "output_type": "stream",
          "text": [
            "Model: \"sequential_9\"\n",
            "_________________________________________________________________\n",
            "Layer (type)                 Output Shape              Param #   \n",
            "=================================================================\n",
            "dense_16 (Dense)             (None, 2)                 130       \n",
            "_________________________________________________________________\n",
            "dense_17 (Dense)             (None, 64)                192       \n",
            "=================================================================\n",
            "Total params: 322\n",
            "Trainable params: 322\n",
            "Non-trainable params: 0\n",
            "_________________________________________________________________\n"
          ],
          "name": "stdout"
        },
        {
          "output_type": "stream",
          "text": [
            "/usr/local/lib/python3.6/dist-packages/tensorflow/python/data/ops/dataset_ops.py:3350: UserWarning: Even though the tf.config.experimental_run_functions_eagerly option is set, this option does not apply to tf.data functions. tf.data functions are still traced and executed as graphs.\n",
            "  \"Even though the tf.config.experimental_run_functions_eagerly \"\n"
          ],
          "name": "stderr"
        },
        {
          "output_type": "stream",
          "text": [
            "Training & Validation Time (seconds): 1533.9186525344849\n"
          ],
          "name": "stdout"
        }
      ]
    },
    {
      "cell_type": "code",
      "metadata": {
        "id": "0FtjMw86NfV8",
        "outputId": "34bdccc0-6658-4c41-d576-98864b200994",
        "colab": {
          "base_uri": "https://localhost:8080/"
        }
      },
      "source": [
        "\"\"\" validation predictions for threshold selection \"\"\"\n",
        "x_valid_pred = autoencoder.predict(X_valid_scaled)\n",
        "mse = np.mean(np.power(X_valid_scaled - x_valid_pred, 2), axis=1)\n",
        "error_df = pd.DataFrame({'Reconstruction_error': mse, 'True_class': y_valid})\n",
        "\n",
        "print('Validation reconstrunction error\\n', sklearn.metrics.mean_squared_error(X_valid_scaled, x_valid_pred))"
      ],
      "execution_count": null,
      "outputs": [
        {
          "output_type": "stream",
          "text": [
            "/usr/local/lib/python3.6/dist-packages/tensorflow/python/data/ops/dataset_ops.py:3350: UserWarning: Even though the tf.config.experimental_run_functions_eagerly option is set, this option does not apply to tf.data functions. tf.data functions are still traced and executed as graphs.\n",
            "  \"Even though the tf.config.experimental_run_functions_eagerly \"\n"
          ],
          "name": "stderr"
        },
        {
          "output_type": "stream",
          "text": [
            "Validation reconstrunction error\n",
            " 0.01308769150862013\n"
          ],
          "name": "stdout"
        }
      ]
    },
    {
      "cell_type": "code",
      "metadata": {
        "id": "KQ0H6-MPNkuD",
        "outputId": "67605303-1fcc-4d2b-ecda-41f01112fe80",
        "colab": {
          "base_uri": "https://localhost:8080/"
        }
      },
      "source": [
        "\"\"\" testing reconstruction error \"\"\"\n",
        "x_test_pred = autoencoder.predict(X_test_scaled)\n",
        "print('Test reconstrunction error\\n', sklearn.metrics.mean_squared_error(X_test_scaled, x_test_pred))"
      ],
      "execution_count": null,
      "outputs": [
        {
          "output_type": "stream",
          "text": [
            "/usr/local/lib/python3.6/dist-packages/tensorflow/python/data/ops/dataset_ops.py:3350: UserWarning: Even though the tf.config.experimental_run_functions_eagerly option is set, this option does not apply to tf.data functions. tf.data functions are still traced and executed as graphs.\n",
            "  \"Even though the tf.config.experimental_run_functions_eagerly \"\n"
          ],
          "name": "stderr"
        },
        {
          "output_type": "stream",
          "text": [
            "Test reconstrunction error\n",
            " 0.0175622112034411\n"
          ],
          "name": "stdout"
        }
      ]
    },
    {
      "cell_type": "code",
      "metadata": {
        "id": "Un0TbQ62NmQs",
        "outputId": "450be5d2-a497-43fd-dd22-9de79ce74e83",
        "colab": {
          "base_uri": "https://localhost:8080/",
          "height": 295
        }
      },
      "source": [
        "plt.plot(autoencoder_history.history['loss'], linewidth=2, label='Train')\n",
        "plt.plot(autoencoder_history.history['val_loss'], linewidth=2, label='Valid')\n",
        "plt.legend(loc='upper right')\n",
        "plt.title('Model loss')\n",
        "plt.ylabel('Loss')\n",
        "plt.xlabel('Epoch')\n",
        "plt.show()"
      ],
      "execution_count": null,
      "outputs": [
        {
          "output_type": "display_data",
          "data": {
            "image/png": "[encoded data removed]",
            "text/plain": [
              "<Figure size 432x288 with 1 Axes>"
            ]
          },
          "metadata": {
            "tags": [],
            "needs_background": "light"
          }
        }
      ]
    },
    {
      "cell_type": "code",
      "metadata": {
        "id": "ckq84ixPOBKW",
        "outputId": "1c7a1972-75f1-4664-9b26-842fb31a4056",
        "colab": {
          "base_uri": "https://localhost:8080/",
          "height": 295
        }
      },
      "source": [
        "false_pos_rate, true_pos_rate, thresholds = roc_curve(error_df.True_class, error_df.Reconstruction_error)\n",
        "roc_auc = auc(false_pos_rate, true_pos_rate)\n",
        "\n",
        "plt.plot(false_pos_rate, true_pos_rate, linewidth=5, label='AUC = %0.3f'% roc_auc)\n",
        "plt.plot([0,1],[0,1], linewidth=5)\n",
        "\n",
        "plt.xlim([-0.01, 1])\n",
        "plt.ylim([0, 1.01])\n",
        "plt.legend(loc='lower right')\n",
        "plt.title('Receiver operating characteristic curve (ROC)')\n",
        "plt.ylabel('True Positive Rate')\n",
        "plt.xlabel('False Positive Rate')\n",
        "plt.show()"
      ],
      "execution_count": null,
      "outputs": [
        {
          "output_type": "display_data",
          "data": {
            "image/png": "[encoded data removed]",
            "text/plain": [
              "<Figure size 432x288 with 1 Axes>"
            ]
          },
          "metadata": {
            "tags": [],
            "needs_background": "light"
          }
        }
      ]
    },
    {
      "cell_type": "code",
      "metadata": {
        "id": "Vvhn9TN4OJ3L",
        "outputId": "cb0ff195-004e-4412-b848-d0b081b6777f",
        "colab": {
          "base_uri": "https://localhost:8080/"
        }
      },
      "source": [
        "\"\"\" Plot reconstruction errors for positive and negative data points \"\"\"\n",
        "mse = np.mean(np.power(X_test_scaled - x_test_pred, 2), axis=1)\n",
        "\n",
        "error_df = pd.DataFrame({'Reconstruction_error': mse,\n",
        "                        'True_class': y_test})\n",
        "threshold = round(np.mean(error_df.Reconstruction_error),2)\n",
        "print(f\"Threshold selected is: {threshold}\")"
      ],
      "execution_count": null,
      "outputs": [
        {
          "output_type": "stream",
          "text": [
            "Threshold selected is: 0.02\n"
          ],
          "name": "stdout"
        }
      ]
    },
    {
      "cell_type": "code",
      "metadata": {
        "id": "0XeV4AtwOTrf",
        "outputId": "20f13141-be9a-4003-c9ef-a23771da72f5",
        "colab": {
          "base_uri": "https://localhost:8080/",
          "height": 404
        }
      },
      "source": [
        "\"\"\" Plot ROC Curve \"\"\"\n",
        "\n",
        "LABELS = [\"Normal\",\"Abnormal\"]\n",
        "\n",
        "pred_y = [1 if e > threshold else 0 for e in error_df.Reconstruction_error.values]\n",
        "conf_matrix = confusion_matrix(error_df.True_class, pred_y)\n",
        "\n",
        "plt.figure(figsize=(6, 6))\n",
        "sns.heatmap(conf_matrix, xticklabels=LABELS, yticklabels=LABELS, annot=True, fmt=\"d\");\n",
        "plt.title(\"Confusion matrix\")\n",
        "plt.ylabel('True class')\n",
        "plt.xlabel('Predicted class')\n",
        "plt.show()"
      ],
      "execution_count": null,
      "outputs": [
        {
          "output_type": "display_data",
          "data": {
            "image/png": "[encoded data removed]",
            "text/plain": [
              "<Figure size 432x432 with 2 Axes>"
            ]
          },
          "metadata": {
            "tags": [],
            "needs_background": "light"
          }
        }
      ]
    },
    {
      "cell_type": "code",
      "metadata": {
        "id": "OIjqPXR_OUyQ",
        "outputId": "ab9e0e32-5047-4cb4-b2d3-deb3eb86260e",
        "colab": {
          "base_uri": "https://localhost:8080/",
          "height": 295
        }
      },
      "source": [
        "\"\"\" plot the ROC curve again \"\"\"\n",
        "false_pos_rate, true_pos_rate, thresholds = roc_curve(error_df.True_class, error_df.Reconstruction_error)\n",
        "roc_auc = auc(false_pos_rate, true_pos_rate,)\n",
        "\n",
        "plt.plot(false_pos_rate, true_pos_rate, linewidth=5, label='AUC = %0.3f'% roc_auc)\n",
        "plt.plot([0,1],[0,1], linewidth=5)\n",
        "\n",
        "plt.xlim([-0.01, 1])\n",
        "plt.ylim([0, 1.01])\n",
        "plt.legend(loc='lower right')\n",
        "plt.title('Receiver operating characteristic curve (ROC)')\n",
        "plt.ylabel('True Positive Rate')\n",
        "plt.xlabel('False Positive Rate')\n",
        "plt.show()"
      ],
      "execution_count": null,
      "outputs": [
        {
          "output_type": "display_data",
          "data": {
            "image/png": "[encoded data removed]",
            "text/plain": [
              "<Figure size 432x288 with 1 Axes>"
            ]
          },
          "metadata": {
            "tags": [],
            "needs_background": "light"
          }
        }
      ]
    },
    {
      "cell_type": "code",
      "metadata": {
        "id": "I8fAWrcsWu65",
        "outputId": "57a0f448-ed25-4cc6-a649-f4a5add798a1",
        "colab": {
          "base_uri": "https://localhost:8080/"
        }
      },
      "source": [
        "\"\"\" unit norm & orthogonality, no bias for decoder \"\"\"\n",
        "encoder = Dense(encoding_dim, activation=\"linear\", input_shape=(input_dim,), use_bias = True, \n",
        "                kernel_regularizer=WeightsOrthogonalityConstraint(encoding_dim, weightage=1., axis=0), \n",
        "                kernel_constraint=UnitNorm(axis=0),\n",
        "                # activity_regularizer=UncorrelatedFeaturesConstraint(encoding_dim, weightage=1.)\n",
        "                ) \n",
        "decoder = Dense(input_dim, activation=\"linear\", use_bias = False)\n",
        "\n",
        "autoencoder = Sequential()\n",
        "autoencoder.add(encoder)\n",
        "autoencoder.add(decoder)\n",
        "\n",
        "autoencoder.compile(loss='mean_squared_error', optimizer='sgd')\n",
        "autoencoder.summary()\n",
        "\n",
        "start_time = time.time() \n",
        "autoencoder_history = autoencoder.fit(X_train_y0_scaled, X_train_y0_scaled,\n",
        "                epochs=epochs,\n",
        "                batch_size=batch_size,\n",
        "                validation_data = (X_valid_y0_scaled, X_valid_y0_scaled),\n",
        "                shuffle=True,\n",
        "                verbose=0)\n",
        "end_time = time.time()\n",
        "print(f\"Training & Validation Time (seconds): {end_time - start_time}\")"
      ],
      "execution_count": null,
      "outputs": [
        {
          "output_type": "stream",
          "text": [
            "Model: \"sequential_14\"\n",
            "_________________________________________________________________\n",
            "Layer (type)                 Output Shape              Param #   \n",
            "=================================================================\n",
            "dense_26 (Dense)             (None, 2)                 130       \n",
            "_________________________________________________________________\n",
            "dense_27 (Dense)             (None, 64)                128       \n",
            "=================================================================\n",
            "Total params: 258\n",
            "Trainable params: 258\n",
            "Non-trainable params: 0\n",
            "_________________________________________________________________\n"
          ],
          "name": "stdout"
        },
        {
          "output_type": "stream",
          "text": [
            "/usr/local/lib/python3.6/dist-packages/tensorflow/python/data/ops/dataset_ops.py:3350: UserWarning: Even though the tf.config.experimental_run_functions_eagerly option is set, this option does not apply to tf.data functions. tf.data functions are still traced and executed as graphs.\n",
            "  \"Even though the tf.config.experimental_run_functions_eagerly \"\n"
          ],
          "name": "stderr"
        },
        {
          "output_type": "stream",
          "text": [
            "Training & Validation Time (seconds): 1186.683257818222\n"
          ],
          "name": "stdout"
        }
      ]
    },
    {
      "cell_type": "code",
      "metadata": {
        "id": "W7Ud0_VzeSXO",
        "outputId": "c90a7031-d453-49fe-f7df-0cf9ecfe7e72",
        "colab": {
          "base_uri": "https://localhost:8080/"
        }
      },
      "source": [
        "\"\"\" validation predictions for threshold selection \"\"\"\n",
        "x_valid_pred = autoencoder.predict(X_valid_scaled)\n",
        "mse = np.mean(np.power(X_valid_scaled - x_valid_pred, 2), axis=1)\n",
        "error_df = pd.DataFrame({'Reconstruction_error': mse, 'True_class': y_valid})\n",
        "\n",
        "print('Validation reconstrunction error\\n', sklearn.metrics.mean_squared_error(X_valid_scaled, x_valid_pred))"
      ],
      "execution_count": null,
      "outputs": [
        {
          "output_type": "stream",
          "text": [
            "/usr/local/lib/python3.6/dist-packages/tensorflow/python/data/ops/dataset_ops.py:3350: UserWarning: Even though the tf.config.experimental_run_functions_eagerly option is set, this option does not apply to tf.data functions. tf.data functions are still traced and executed as graphs.\n",
            "  \"Even though the tf.config.experimental_run_functions_eagerly \"\n"
          ],
          "name": "stderr"
        },
        {
          "output_type": "stream",
          "text": [
            "Validation reconstrunction error\n",
            " 0.013194101807046815\n"
          ],
          "name": "stdout"
        }
      ]
    },
    {
      "cell_type": "code",
      "metadata": {
        "id": "WvbLpdLBeaYQ",
        "outputId": "389826d5-363a-46fc-db87-0552eb335a5d",
        "colab": {
          "base_uri": "https://localhost:8080/"
        }
      },
      "source": [
        "\"\"\" testing reconstruction error \"\"\"\n",
        "x_test_pred = autoencoder.predict(X_test_scaled)\n",
        "print('Test reconstrunction error\\n', sklearn.metrics.mean_squared_error(X_test_scaled, x_test_pred))"
      ],
      "execution_count": null,
      "outputs": [
        {
          "output_type": "stream",
          "text": [
            "/usr/local/lib/python3.6/dist-packages/tensorflow/python/data/ops/dataset_ops.py:3350: UserWarning: Even though the tf.config.experimental_run_functions_eagerly option is set, this option does not apply to tf.data functions. tf.data functions are still traced and executed as graphs.\n",
            "  \"Even though the tf.config.experimental_run_functions_eagerly \"\n"
          ],
          "name": "stderr"
        },
        {
          "output_type": "stream",
          "text": [
            "Test reconstrunction error\n",
            " 0.01666679470894422\n"
          ],
          "name": "stdout"
        }
      ]
    },
    {
      "cell_type": "code",
      "metadata": {
        "id": "M8raNmu3efHD",
        "outputId": "d0c40c21-d2be-4109-d45d-e4f424d96753",
        "colab": {
          "base_uri": "https://localhost:8080/"
        }
      },
      "source": [
        "\"\"\" Plot reconstruction errors for positive and negative data points \"\"\"\n",
        "mse = np.mean(np.power(X_test_scaled - x_test_pred, 2), axis=1)\n",
        "\n",
        "error_df = pd.DataFrame({'Reconstruction_error': mse,\n",
        "                        'True_class': y_test})\n",
        "threshold = round(np.mean(error_df.Reconstruction_error),2)\n",
        "print(f\"Threshold selected is: {threshold}\")"
      ],
      "execution_count": null,
      "outputs": [
        {
          "output_type": "stream",
          "text": [
            "Threshold selected is: 0.02\n"
          ],
          "name": "stdout"
        }
      ]
    },
    {
      "cell_type": "code",
      "metadata": {
        "id": "h272sWD9eii2",
        "outputId": "668e373c-26d7-4f17-8680-5905756a0b6a",
        "colab": {
          "base_uri": "https://localhost:8080/",
          "height": 404
        }
      },
      "source": [
        "\"\"\" Plot ROC Curve \"\"\"\n",
        "\n",
        "LABELS = [\"Normal\",\"Abnormal\"]\n",
        "\n",
        "pred_y = [1 if e > threshold else 0 for e in error_df.Reconstruction_error.values]\n",
        "conf_matrix = confusion_matrix(error_df.True_class, pred_y)\n",
        "\n",
        "plt.figure(figsize=(6, 6))\n",
        "sns.heatmap(conf_matrix, xticklabels=LABELS, yticklabels=LABELS, annot=True, fmt=\"d\");\n",
        "plt.title(\"Confusion matrix\")\n",
        "plt.ylabel('True class')\n",
        "plt.xlabel('Predicted class')\n",
        "plt.show()"
      ],
      "execution_count": null,
      "outputs": [
        {
          "output_type": "display_data",
          "data": {
            "image/png": "[encoded data removed]",
            "text/plain": [
              "<Figure size 432x432 with 2 Axes>"
            ]
          },
          "metadata": {
            "tags": [],
            "needs_background": "light"
          }
        }
      ]
    },
    {
      "cell_type": "code",
      "metadata": {
        "id": "fUbjSCdUeoRv",
        "outputId": "b45a86c8-508c-458c-c771-4ca31dcff7b2",
        "colab": {
          "base_uri": "https://localhost:8080/",
          "height": 295
        }
      },
      "source": [
        "\"\"\" plot the ROC curve again \"\"\"\n",
        "false_pos_rate, true_pos_rate, thresholds = roc_curve(error_df.True_class, error_df.Reconstruction_error)\n",
        "roc_auc = auc(false_pos_rate, true_pos_rate,)\n",
        "\n",
        "plt.plot(false_pos_rate, true_pos_rate, linewidth=5, label='AUC = %0.3f'% roc_auc)\n",
        "plt.plot([0,1],[0,1], linewidth=5)\n",
        "\n",
        "plt.xlim([-0.01, 1])\n",
        "plt.ylim([0, 1.01])\n",
        "plt.legend(loc='lower right')\n",
        "plt.title('Receiver operating characteristic curve (ROC)')\n",
        "plt.ylabel('True Positive Rate')\n",
        "plt.xlabel('False Positive Rate')\n",
        "plt.show()"
      ],
      "execution_count": null,
      "outputs": [
        {
          "output_type": "display_data",
          "data": {
            "image/png": "[encoded data removed]",
            "text/plain": [
              "<Figure size 432x288 with 1 Axes>"
            ]
          },
          "metadata": {
            "tags": [],
            "needs_background": "light"
          }
        }
      ]
    },
    {
      "cell_type": "code",
      "metadata": {
        "id": "yiXl_xYfN24e"
      },
      "source": [
        "\"\"\" run if necessary for packages used in the program \"\"\"\n",
        "!pip freeze > requirements.txt "
      ],
      "execution_count": null,
      "outputs": []
    }
  ]
}