{
 "cells": [
  {
   "cell_type": "code",
   "execution_count": 1,
   "metadata": {
    "id": "nFuCbVM1iJ2K"
   },
   "outputs": [],
   "source": [
    "import pandas as pd\n",
    "import numpy as np\n",
    "from sklearn.model_selection import train_test_split\n",
    "from sklearn.preprocessing import MinMaxScaler\n",
    "from sklearn import metrics\n",
    "from sklearn.ensemble import RandomForestClassifier\n",
    "\n",
    "import warnings\n",
    "warnings.filterwarnings(\"ignore\")\n",
    "\n",
    "\"\"\" plot inside the notebook \"\"\"\n",
    "import matplotlib.pyplot as plt\n",
    "%matplotlib inline "
   ]
  },
  {
   "cell_type": "code",
   "execution_count": 12,
   "metadata": {
    "id": "CxPboa-xnd8F"
   },
   "outputs": [],
   "source": [
    "\"\"\" read data \"\"\"\n",
    "df = pd.read_csv(\"/path/to/file\")"
   ]
  },
  {
   "cell_type": "code",
   "execution_count": 13,
   "metadata": {
    "colab": {
     "base_uri": "https://localhost:8080/"
    },
    "id": "kENd1StfoBjd",
    "outputId": "2af02b00-6318-4052-d163-a3c8087b870c"
   },
   "outputs": [
    {
     "name": "stdout",
     "output_type": "stream",
     "text": [
      "Size of the dataset: 85305\n",
      "# of Features: 66\n"
     ]
    }
   ],
   "source": [
    "print(f\"Size of the dataset: {df.shape[0]}\\n# of Features: {df.shape[1]}\")"
   ]
  },
  {
   "cell_type": "code",
   "execution_count": 14,
   "metadata": {
    "id": "DJXNOCN6CMJC"
   },
   "outputs": [],
   "source": [
    "\"\"\" features, labels \"\"\"\n",
    "df.drop(['TimeStamp_x'], axis = 1, inplace = True)\n",
    "X = df.drop([\"Label\"], axis = 1).values\n",
    "y = df[\"Label\"].values"
   ]
  },
  {
   "cell_type": "code",
   "execution_count": 15,
   "metadata": {
    "colab": {
     "base_uri": "https://localhost:8080/"
    },
    "id": "9bNSroFVofK2",
    "outputId": "8ec3680c-dd08-4b1f-a2c8-e9f465b82ef6"
   },
   "outputs": [
    {
     "name": "stdout",
     "output_type": "stream",
     "text": [
      "Train features shape: (57154, 64)\t Train label shape: (57154,)\n",
      "Test features shape: (28151, 64)\t Train label shape: (28151,)\n"
     ]
    }
   ],
   "source": [
    "\"\"\" split train, test data \"\"\"\n",
    "X_train, X_test, y_train, y_test = train_test_split(X, y, test_size = 0.33, random_state = 7)\n",
    "print(f\"Train features shape: {X_train.shape}\\t Train label shape: {y_train.shape}\")\n",
    "print(f\"Test features shape: {X_test.shape}\\t Train label shape: {y_test.shape}\")"
   ]
  },
  {
   "cell_type": "code",
   "execution_count": 16,
   "metadata": {
    "colab": {
     "base_uri": "https://localhost:8080/"
    },
    "id": "AdUjtICGECdw",
    "outputId": "43e66b6d-1e9a-4687-d3e4-de0cea3f29b5"
   },
   "outputs": [
    {
     "data": {
      "text/plain": [
       "MinMaxScaler()"
      ]
     },
     "execution_count": 16,
     "metadata": {},
     "output_type": "execute_result"
    }
   ],
   "source": [
    "\"\"\" define, fit scaler \"\"\"\n",
    "scaler = MinMaxScaler()\n",
    "scaler.fit(X_train)"
   ]
  },
  {
   "cell_type": "code",
   "execution_count": 17,
   "metadata": {
    "id": "sD9JVbfOK-ge"
   },
   "outputs": [],
   "source": [
    "\"\"\" transform, i.e scale \"\"\"\n",
    "X_train = scaler.transform(X_train)\n",
    "X_test = scaler.transform(X_test)"
   ]
  },
  {
   "cell_type": "code",
   "execution_count": 18,
   "metadata": {
    "id": "RuWxvCga9843"
   },
   "outputs": [],
   "source": [
    "\"\"\" random forest as baseline model \"\"\"\n",
    "model = RandomForestClassifier()\n",
    "model.fit(X_train, y_train)\n",
    "y_hat = model.predict(X_test)"
   ]
  },
  {
   "cell_type": "code",
   "execution_count": 19,
   "metadata": {
    "colab": {
     "base_uri": "https://localhost:8080/"
    },
    "id": "johrdm-LBO0d",
    "outputId": "7ada7015-f607-4241-c957-e6864d22b2c1"
   },
   "outputs": [
    {
     "name": "stdout",
     "output_type": "stream",
     "text": [
      "Accuracy of baseline model (random forest classifier): 0.979112642534901\n",
      "              precision    recall  f1-score   support\n",
      "\n",
      "         0.0       0.98      1.00      0.99     27230\n",
      "         1.0       0.95      0.38      0.54       921\n",
      "\n",
      "    accuracy                           0.98     28151\n",
      "   macro avg       0.97      0.69      0.77     28151\n",
      "weighted avg       0.98      0.98      0.97     28151\n",
      "\n"
     ]
    }
   ],
   "source": [
    "# accuracy\n",
    "print(f\"Accuracy of baseline model (random forest classifier): {metrics.accuracy_score(y_test, y_hat)}\")\n",
    "# classification report \n",
    "print(metrics.classification_report(y_test, y_hat))"
   ]
  }
 ],
 "metadata": {
  "accelerator": "GPU",
  "colab": {
   "collapsed_sections": [],
   "name": "rf_classification.ipynb",
   "provenance": []
  },
  "kernelspec": {
   "display_name": "Python 3",
   "language": "python",
   "name": "python3"
  },
  "language_info": {
   "codemirror_mode": {
    "name": "ipython",
    "version": 3
   },
   "file_extension": ".py",
   "mimetype": "text/x-python",
   "name": "python",
   "nbconvert_exporter": "python",
   "pygments_lexer": "ipython3",
   "version": "3.8.3"
  }
 },
 "nbformat": 4,
 "nbformat_minor": 1
}
